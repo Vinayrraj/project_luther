{
 "cells": [
  {
   "cell_type": "code",
   "execution_count": 94,
   "metadata": {},
   "outputs": [],
   "source": [
    "import pandas as pd\n",
    "import numpy as np\n",
    "\n",
    "from selenium import webdriver\n",
    "from selenium.webdriver.common.keys import Keys\n",
    "from selenium.common.exceptions import NoSuchElementException\n",
    "import time\n",
    "\n",
    "import os\n",
    "\n",
    "from bs4 import BeautifulSoup\n",
    "\n",
    "chromedriver = f\"/Users/brenner/chromedriver\" # path to the chromedriver executable\n",
    "os.environ[\"webdriver.chrome.driver\"] = chromedriver"
   ]
  },
  {
   "cell_type": "code",
   "execution_count": 86,
   "metadata": {},
   "outputs": [],
   "source": [
    "driver = webdriver.Chrome(chromedriver)\n",
    "driver.get(\"https://www.walkscore.com/WA/Kenmore\")"
   ]
  },
  {
   "cell_type": "code",
   "execution_count": 87,
   "metadata": {},
   "outputs": [],
   "source": [
    "walk_score = driver.find_element_by_id(\"hood-badges\")\n",
    "walk_score_2 = driver.find_element_by_xpath(xpath)"
   ]
  },
  {
   "cell_type": "code",
   "execution_count": 88,
   "metadata": {},
   "outputs": [
    {
     "data": {
      "text/plain": [
       "'https://pp.walk.sc/badge/walk/score/31.svg'"
      ]
     },
     "execution_count": 88,
     "metadata": {},
     "output_type": "execute_result"
    }
   ],
   "source": [
    "walk_score_2 = driver.find_element_by_xpath(xpath)\n",
    "walk_score_2.get_attribute(\"src\")"
   ]
  },
  {
   "cell_type": "code",
   "execution_count": 96,
   "metadata": {},
   "outputs": [],
   "source": [
    "try:\n",
    "    walk_path = '//*[@id=\"hood-badges\"]/div/div/div/div/div/img[1]'\n",
    "    walk_elem = driver.find_element_by_xpath(walk_path)\n",
    "    walk_score = walk_elem.get_attribute(\"src\")\n",
    "\n",
    "    walk_score = walk_score.split('/')[-1][:2]\n",
    "\n",
    "    walk_score\n",
    "except NoSuchElementException:\n",
    "    print('No Walk Score on this page.')"
   ]
  },
  {
   "cell_type": "code",
   "execution_count": 97,
   "metadata": {
    "scrolled": true
   },
   "outputs": [],
   "source": [
    "try:\n",
    "    transit_path = '//*[@id=\"hood-badges\"]/div/div/div/div/div/img[2]'\n",
    "    transit_elem = driver.find_element_by_xpath(transit_path)\n",
    "    transit_score = transit_elem.get_attribute(\"src\")\n",
    "\n",
    "    transit_score = transit_score.split('/')[-1][:2]\n",
    "\n",
    "    transit_score\n",
    "    \n",
    "except NoSuchElementException:\n",
    "    print('No Transit Score on this page.')"
   ]
  },
  {
   "cell_type": "code",
   "execution_count": 98,
   "metadata": {},
   "outputs": [
    {
     "name": "stdout",
     "output_type": "stream",
     "text": [
      "No Bike Score on this page.\n"
     ]
    }
   ],
   "source": [
    "# Not all areas have a bike score\n",
    "\n",
    "try:\n",
    "    bike_path = '//*[@id=\"hood-badges\"]/div/div/div/div/div/img[3]'\n",
    "    bike_elem = driver.find_element_by_xpath(bike_path)\n",
    "    bike_score = bike_elem.get_attribute(\"src\")\n",
    "\n",
    "    bike_score = bike_score.split('/')[-1][:2]\n",
    "\n",
    "    bike_score\n",
    "except NoSuchElementException:\n",
    "    print('No Bike Score on this page.')"
   ]
  },
  {
   "cell_type": "code",
   "execution_count": 67,
   "metadata": {},
   "outputs": [],
   "source": [
    "table = driver.find_element_by_id('hood-list-table')"
   ]
  },
  {
   "cell_type": "code",
   "execution_count": 69,
   "metadata": {
    "scrolled": true
   },
   "outputs": [
    {
     "data": {
      "text/plain": [
       "'Rank\\nName\\nWalk Score\\nTransit Score\\nBike Score\\nPopulation\\n9\\nCapitol Hill\\n91 80 85 29,310\\n10\\nUniversity District\\n91 77 85 26,712\\n11\\nCentral District\\n88 72 90 12,874\\n12\\nBallard\\n87 53 90 17,010\\n13\\nGreenwood\\n85 54 79 16,190'"
      ]
     },
     "execution_count": 69,
     "metadata": {},
     "output_type": "execute_result"
    }
   ],
   "source": [
    "table_text = table.text\n",
    "table.text"
   ]
  },
  {
   "cell_type": "code",
   "execution_count": 78,
   "metadata": {},
   "outputs": [
    {
     "data": {
      "text/plain": [
       "['Rank',\n",
       " 'Name',\n",
       " 'Walk Score',\n",
       " 'Transit Score',\n",
       " 'Bike Score',\n",
       " 'Population',\n",
       " '9',\n",
       " 'Capitol Hill',\n",
       " '91 80 85 29,310',\n",
       " '10',\n",
       " 'University District',\n",
       " '91 77 85 26,712',\n",
       " '11',\n",
       " 'Central District',\n",
       " '88 72 90 12,874',\n",
       " '12',\n",
       " 'Ballard',\n",
       " '87 53 90 17,010',\n",
       " '13',\n",
       " 'Greenwood',\n",
       " '85 54 79 16,190']"
      ]
     },
     "execution_count": 78,
     "metadata": {},
     "output_type": "execute_result"
    }
   ],
   "source": [
    "table_text = table_text.split('\\n')\n",
    "table_text"
   ]
  },
  {
   "cell_type": "code",
   "execution_count": 85,
   "metadata": {},
   "outputs": [
    {
     "name": "stdout",
     "output_type": "stream",
     "text": [
      "Capitol Hill 91 80 85 29,310\n",
      "University District 91 77 85 26,712\n"
     ]
    }
   ],
   "source": [
    "print(table_text[7], table_text[8])\n",
    "print(table_text[10], table_text[11])"
   ]
  },
  {
   "cell_type": "code",
   "execution_count": 73,
   "metadata": {},
   "outputs": [
    {
     "data": {
      "text/plain": [
       "'Rank\\nName\\nWalk Score\\nTransit Score\\nBike Score\\nPopulation\\n9\\nCapitol Hill\\n91 80 85 29,310\\n10\\nUniversity District\\n91 77 85 26,712\\n11\\nCentral District\\n88 72 90 12,874\\n12\\nBallard\\n87 53 90 17,010\\n13\\nGreenwood\\n85 54 79 16,190'"
      ]
     },
     "execution_count": 73,
     "metadata": {},
     "output_type": "execute_result"
    }
   ],
   "source": [
    "table_text"
   ]
  },
  {
   "cell_type": "code",
   "execution_count": 63,
   "metadata": {},
   "outputs": [],
   "source": [
    "url = 'https://www.walkscore.com/score/1436-19th-ave-seattle-wa-98122'\n",
    "driver = webdriver.Chrome(chromedriver)\n",
    "driver.get(url)"
   ]
  },
  {
   "cell_type": "code",
   "execution_count": null,
   "metadata": {},
   "outputs": [],
   "source": []
  },
  {
   "cell_type": "code",
   "execution_count": null,
   "metadata": {},
   "outputs": [],
   "source": []
  },
  {
   "cell_type": "code",
   "execution_count": null,
   "metadata": {},
   "outputs": [],
   "source": []
  }
 ],
 "metadata": {
  "kernelspec": {
   "display_name": "Python 3",
   "language": "python",
   "name": "python3"
  },
  "language_info": {
   "codemirror_mode": {
    "name": "ipython",
    "version": 3
   },
   "file_extension": ".py",
   "mimetype": "text/x-python",
   "name": "python",
   "nbconvert_exporter": "python",
   "pygments_lexer": "ipython3",
   "version": "3.6.6"
  }
 },
 "nbformat": 4,
 "nbformat_minor": 2
}
