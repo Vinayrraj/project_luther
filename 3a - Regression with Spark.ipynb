{
 "cells": [
  {
   "cell_type": "code",
   "execution_count": 31,
   "metadata": {},
   "outputs": [],
   "source": [
    "import pyspark\n",
    "from pyspark.sql import SparkSession\n",
    "from pyspark.sql.functions import udf\n",
    "from pyspark.sql.types import IntegerType\n",
    "from pyspark.sql.types import BooleanType\n",
    "from pyspark.sql.functions import desc\n",
    "from pyspark.ml.regression import LinearRegression\n",
    "from pyspark.ml.feature import VectorAssembler\n",
    "from pyspark.ml.evaluation import RegressionEvaluator\n",
    "from pyspark.ml.tuning import ParamGridBuilder, CrossValidator\n",
    "from pyspark.ml import Pipeline\n",
    "from pyspark.ml.feature import MinMaxScaler\n",
    "from pyspark.ml.linalg import Vectors\n",
    "from pyspark.ml.feature import StandardScaler"
   ]
  },
  {
   "cell_type": "code",
   "execution_count": 2,
   "metadata": {},
   "outputs": [],
   "source": [
    "spark = pyspark.sql.SparkSession.builder.getOrCreate()\n",
    "sc = spark.sparkContext"
   ]
  },
  {
   "cell_type": "code",
   "execution_count": 3,
   "metadata": {},
   "outputs": [],
   "source": [
    "df = spark.read.csv('./data/final_data_set.csv',\n",
    "                   inferSchema=True,\n",
    "                    header=True\n",
    "                   )"
   ]
  },
  {
   "cell_type": "code",
   "execution_count": 4,
   "metadata": {},
   "outputs": [],
   "source": [
    "df = df.drop('_c0')"
   ]
  },
  {
   "cell_type": "code",
   "execution_count": 5,
   "metadata": {},
   "outputs": [
    {
     "name": "stdout",
     "output_type": "stream",
     "text": [
      "(5852, 22)\n"
     ]
    }
   ],
   "source": [
    "print((df.count(), len(df.columns)))"
   ]
  },
  {
   "cell_type": "code",
   "execution_count": 6,
   "metadata": {},
   "outputs": [
    {
     "name": "stdout",
     "output_type": "stream",
     "text": [
      "root\n",
      " |-- price: integer (nullable = true)\n",
      " |-- bedrooms: integer (nullable = true)\n",
      " |-- bathrooms: double (nullable = true)\n",
      " |-- sqft_living: integer (nullable = true)\n",
      " |-- sqft_lot: integer (nullable = true)\n",
      " |-- floors: double (nullable = true)\n",
      " |-- waterfront: integer (nullable = true)\n",
      " |-- view: integer (nullable = true)\n",
      " |-- condition: integer (nullable = true)\n",
      " |-- grade: integer (nullable = true)\n",
      " |-- sqft_above: integer (nullable = true)\n",
      " |-- sqft_basement: integer (nullable = true)\n",
      " |-- yr_built: integer (nullable = true)\n",
      " |-- sqft_living15: integer (nullable = true)\n",
      " |-- sqft_lot15: integer (nullable = true)\n",
      " |-- walk_score: integer (nullable = true)\n",
      " |-- transit_score: integer (nullable = true)\n",
      " |-- pers_crime_score: integer (nullable = true)\n",
      " |-- prop_crime_score: integer (nullable = true)\n",
      " |-- income: integer (nullable = true)\n",
      " |-- renovated_yrs_ago: integer (nullable = true)\n",
      " |-- log_price: double (nullable = true)\n",
      "\n"
     ]
    }
   ],
   "source": [
    "df.printSchema()"
   ]
  },
  {
   "cell_type": "code",
   "execution_count": 7,
   "metadata": {},
   "outputs": [
    {
     "name": "stdout",
     "output_type": "stream",
     "text": [
      "+------+--------+---------+-----------+--------+------+----------+----+---------+-----+----------+-------------+--------+-------------+----------+----------+-------------+----------------+----------------+------+-----------------+------------------+\n",
      "| price|bedrooms|bathrooms|sqft_living|sqft_lot|floors|waterfront|view|condition|grade|sqft_above|sqft_basement|yr_built|sqft_living15|sqft_lot15|walk_score|transit_score|pers_crime_score|prop_crime_score|income|renovated_yrs_ago|         log_price|\n",
      "+------+--------+---------+-----------+--------+------+----------+----+---------+-----+----------+-------------+--------+-------------+----------+----------+-------------+----------------+----------------+------+-----------------+------------------+\n",
      "|221900|       3|      1.0|       1180|    5650|   1.0|         0|   0|        3|    7|      1180|            0|      60|         1340|      5650|        46|           46|               2|               3| 71524|               60|12.309982108920686|\n",
      "|538000|       3|     2.25|       2570|    7242|   2.0|         0|   0|        3|    7|      2170|          400|      64|         1690|      7639|        64|           50|               2|               3| 56208|               24|13.195613839143922|\n",
      "|180000|       2|      1.0|        770|   10000|   1.0|         0|   0|        3|    6|       770|            0|      82|         2720|      8062|        19|           26|               2|               3| 96863|               82|12.100712129872347|\n",
      "+------+--------+---------+-----------+--------+------+----------+----+---------+-----+----------+-------------+--------+-------------+----------+----------+-------------+----------------+----------------+------+-----------------+------------------+\n",
      "only showing top 3 rows\n",
      "\n"
     ]
    }
   ],
   "source": [
    "df.show(3)"
   ]
  },
  {
   "cell_type": "code",
   "execution_count": 8,
   "metadata": {},
   "outputs": [
    {
     "name": "stdout",
     "output_type": "stream",
     "text": [
      "+-------+------------------+\n",
      "|summary|             price|\n",
      "+-------+------------------+\n",
      "|  count|              5852|\n",
      "|   mean| 553231.8257006152|\n",
      "| stddev|247486.31361324288|\n",
      "|    min|             90000|\n",
      "|    max|           1570000|\n",
      "+-------+------------------+\n",
      "\n"
     ]
    }
   ],
   "source": [
    "df.describe(['price']).show()"
   ]
  },
  {
   "cell_type": "code",
   "execution_count": 9,
   "metadata": {},
   "outputs": [
    {
     "data": {
      "text/html": [
       "<div>\n",
       "<style scoped>\n",
       "    .dataframe tbody tr th:only-of-type {\n",
       "        vertical-align: middle;\n",
       "    }\n",
       "\n",
       "    .dataframe tbody tr th {\n",
       "        vertical-align: top;\n",
       "    }\n",
       "\n",
       "    .dataframe thead th {\n",
       "        text-align: right;\n",
       "    }\n",
       "</style>\n",
       "<table border=\"1\" class=\"dataframe\">\n",
       "  <thead>\n",
       "    <tr style=\"text-align: right;\">\n",
       "      <th></th>\n",
       "      <th>summary</th>\n",
       "      <th>price</th>\n",
       "      <th>bedrooms</th>\n",
       "      <th>bathrooms</th>\n",
       "      <th>sqft_living</th>\n",
       "      <th>sqft_lot</th>\n",
       "      <th>floors</th>\n",
       "      <th>waterfront</th>\n",
       "      <th>view</th>\n",
       "      <th>condition</th>\n",
       "      <th>...</th>\n",
       "      <th>yr_built</th>\n",
       "      <th>sqft_living15</th>\n",
       "      <th>sqft_lot15</th>\n",
       "      <th>walk_score</th>\n",
       "      <th>transit_score</th>\n",
       "      <th>pers_crime_score</th>\n",
       "      <th>prop_crime_score</th>\n",
       "      <th>income</th>\n",
       "      <th>renovated_yrs_ago</th>\n",
       "      <th>log_price</th>\n",
       "    </tr>\n",
       "  </thead>\n",
       "  <tbody>\n",
       "    <tr>\n",
       "      <th>0</th>\n",
       "      <td>count</td>\n",
       "      <td>5852</td>\n",
       "      <td>5852</td>\n",
       "      <td>5852</td>\n",
       "      <td>5852</td>\n",
       "      <td>5852</td>\n",
       "      <td>5852</td>\n",
       "      <td>5852</td>\n",
       "      <td>5852</td>\n",
       "      <td>5852</td>\n",
       "      <td>...</td>\n",
       "      <td>5852</td>\n",
       "      <td>5852</td>\n",
       "      <td>5852</td>\n",
       "      <td>5852</td>\n",
       "      <td>5852</td>\n",
       "      <td>5852</td>\n",
       "      <td>5852</td>\n",
       "      <td>5852</td>\n",
       "      <td>5852</td>\n",
       "      <td>5852</td>\n",
       "    </tr>\n",
       "    <tr>\n",
       "      <th>1</th>\n",
       "      <td>mean</td>\n",
       "      <td>553231.8257006152</td>\n",
       "      <td>3.126794258373206</td>\n",
       "      <td>1.9082792207792207</td>\n",
       "      <td>1755.2424812030076</td>\n",
       "      <td>5288.316131237184</td>\n",
       "      <td>1.527682843472317</td>\n",
       "      <td>0.0018796992481203006</td>\n",
       "      <td>0.24419002050580998</td>\n",
       "      <td>3.4448051948051948</td>\n",
       "      <td>...</td>\n",
       "      <td>61.30587833219412</td>\n",
       "      <td>1647.2812713602186</td>\n",
       "      <td>5202.725563909775</td>\n",
       "      <td>67.68113465481886</td>\n",
       "      <td>52.604750512645246</td>\n",
       "      <td>1.960868079289132</td>\n",
       "      <td>2.099794941900205</td>\n",
       "      <td>81775.06818181818</td>\n",
       "      <td>57.034005468215994</td>\n",
       "      <td>13.13247397082676</td>\n",
       "    </tr>\n",
       "    <tr>\n",
       "      <th>2</th>\n",
       "      <td>stddev</td>\n",
       "      <td>247486.31361324288</td>\n",
       "      <td>1.071525033061304</td>\n",
       "      <td>0.7756144290599073</td>\n",
       "      <td>721.24214276076</td>\n",
       "      <td>5906.49018430074</td>\n",
       "      <td>0.6112397050160592</td>\n",
       "      <td>0.04331843298385619</td>\n",
       "      <td>0.7471306086749057</td>\n",
       "      <td>0.7036749588932281</td>\n",
       "      <td>...</td>\n",
       "      <td>35.04861598472822</td>\n",
       "      <td>459.8347984633792</td>\n",
       "      <td>6063.99439546608</td>\n",
       "      <td>18.92226538694838</td>\n",
       "      <td>11.108412082485819</td>\n",
       "      <td>0.831366665959762</td>\n",
       "      <td>0.8804568112835992</td>\n",
       "      <td>26074.238176516246</td>\n",
       "      <td>35.831109923801336</td>\n",
       "      <td>0.42617216657798623</td>\n",
       "    </tr>\n",
       "    <tr>\n",
       "      <th>3</th>\n",
       "      <td>min</td>\n",
       "      <td>90000</td>\n",
       "      <td>0</td>\n",
       "      <td>0.0</td>\n",
       "      <td>370</td>\n",
       "      <td>520</td>\n",
       "      <td>1.0</td>\n",
       "      <td>0</td>\n",
       "      <td>0</td>\n",
       "      <td>1</td>\n",
       "      <td>...</td>\n",
       "      <td>0</td>\n",
       "      <td>460</td>\n",
       "      <td>651</td>\n",
       "      <td>0</td>\n",
       "      <td>0</td>\n",
       "      <td>1</td>\n",
       "      <td>1</td>\n",
       "      <td>12269</td>\n",
       "      <td>0</td>\n",
       "      <td>11.407564949312402</td>\n",
       "    </tr>\n",
       "    <tr>\n",
       "      <th>4</th>\n",
       "      <td>max</td>\n",
       "      <td>1570000</td>\n",
       "      <td>33</td>\n",
       "      <td>7.5</td>\n",
       "      <td>6070</td>\n",
       "      <td>219978</td>\n",
       "      <td>3.5</td>\n",
       "      <td>1</td>\n",
       "      <td>4</td>\n",
       "      <td>5</td>\n",
       "      <td>...</td>\n",
       "      <td>115</td>\n",
       "      <td>5600</td>\n",
       "      <td>216928</td>\n",
       "      <td>99</td>\n",
       "      <td>95</td>\n",
       "      <td>4</td>\n",
       "      <td>4</td>\n",
       "      <td>199542</td>\n",
       "      <td>115</td>\n",
       "      <td>14.266586177324491</td>\n",
       "    </tr>\n",
       "  </tbody>\n",
       "</table>\n",
       "<p>5 rows × 23 columns</p>\n",
       "</div>"
      ],
      "text/plain": [
       "  summary               price           bedrooms           bathrooms  \\\n",
       "0   count                5852               5852                5852   \n",
       "1    mean   553231.8257006152  3.126794258373206  1.9082792207792207   \n",
       "2  stddev  247486.31361324288  1.071525033061304  0.7756144290599073   \n",
       "3     min               90000                  0                 0.0   \n",
       "4     max             1570000                 33                 7.5   \n",
       "\n",
       "          sqft_living           sqft_lot              floors  \\\n",
       "0                5852               5852                5852   \n",
       "1  1755.2424812030076  5288.316131237184   1.527682843472317   \n",
       "2     721.24214276076   5906.49018430074  0.6112397050160592   \n",
       "3                 370                520                 1.0   \n",
       "4                6070             219978                 3.5   \n",
       "\n",
       "              waterfront                 view           condition  \\\n",
       "0                   5852                 5852                5852   \n",
       "1  0.0018796992481203006  0.24419002050580998  3.4448051948051948   \n",
       "2    0.04331843298385619   0.7471306086749057  0.7036749588932281   \n",
       "3                      0                    0                   1   \n",
       "4                      1                    4                   5   \n",
       "\n",
       "          ...                    yr_built       sqft_living15  \\\n",
       "0         ...                        5852                5852   \n",
       "1         ...           61.30587833219412  1647.2812713602186   \n",
       "2         ...           35.04861598472822   459.8347984633792   \n",
       "3         ...                           0                 460   \n",
       "4         ...                         115                5600   \n",
       "\n",
       "          sqft_lot15         walk_score       transit_score  \\\n",
       "0               5852               5852                5852   \n",
       "1  5202.725563909775  67.68113465481886  52.604750512645246   \n",
       "2   6063.99439546608  18.92226538694838  11.108412082485819   \n",
       "3                651                  0                   0   \n",
       "4             216928                 99                  95   \n",
       "\n",
       "    pers_crime_score    prop_crime_score              income  \\\n",
       "0               5852                5852                5852   \n",
       "1  1.960868079289132   2.099794941900205   81775.06818181818   \n",
       "2  0.831366665959762  0.8804568112835992  26074.238176516246   \n",
       "3                  1                   1               12269   \n",
       "4                  4                   4              199542   \n",
       "\n",
       "    renovated_yrs_ago            log_price  \n",
       "0                5852                 5852  \n",
       "1  57.034005468215994    13.13247397082676  \n",
       "2  35.831109923801336  0.42617216657798623  \n",
       "3                   0   11.407564949312402  \n",
       "4                 115   14.266586177324491  \n",
       "\n",
       "[5 rows x 23 columns]"
      ]
     },
     "execution_count": 9,
     "metadata": {},
     "output_type": "execute_result"
    }
   ],
   "source": [
    "df.describe().toPandas()"
   ]
  },
  {
   "cell_type": "code",
   "execution_count": 10,
   "metadata": {},
   "outputs": [
    {
     "name": "stdout",
     "output_type": "stream",
     "text": [
      "+------+--------+---------+-----------+--------+------+----------+----+---------+-----+----------+-------------+--------+-------------+----------+----------+-------------+----------------+----------------+------+-----------------+------------------+\n",
      "| price|bedrooms|bathrooms|sqft_living|sqft_lot|floors|waterfront|view|condition|grade|sqft_above|sqft_basement|yr_built|sqft_living15|sqft_lot15|walk_score|transit_score|pers_crime_score|prop_crime_score|income|renovated_yrs_ago|         log_price|\n",
      "+------+--------+---------+-----------+--------+------+----------+----+---------+-----+----------+-------------+--------+-------------+----------+----------+-------------+----------------+----------------+------+-----------------+------------------+\n",
      "|221900|       3|      1.0|       1180|    5650|   1.0|         0|   0|        3|    7|      1180|            0|      60|         1340|      5650|        46|           46|               2|               3| 71524|               60|12.309982108920686|\n",
      "|538000|       3|     2.25|       2570|    7242|   2.0|         0|   0|        3|    7|      2170|          400|      64|         1690|      7639|        64|           50|               2|               3| 56208|               24|13.195613839143922|\n",
      "+------+--------+---------+-----------+--------+------+----------+----+---------+-----+----------+-------------+--------+-------------+----------+----------+-------------+----------------+----------------+------+-----------------+------------------+\n",
      "only showing top 2 rows\n",
      "\n"
     ]
    }
   ],
   "source": [
    "df.show(2)"
   ]
  },
  {
   "cell_type": "code",
   "execution_count": 11,
   "metadata": {},
   "outputs": [
    {
     "name": "stdout",
     "output_type": "stream",
     "text": [
      "+-----------------+--------+\n",
      "|       avg(price)|bedrooms|\n",
      "+-----------------+--------+\n",
      "|335107.0202020202|       1|\n",
      "|724756.8928571428|       6|\n",
      "|532000.7742316785|       3|\n",
      "|707386.0604229607|       5|\n",
      "|893999.8333333334|       9|\n",
      "|685722.4777358491|       4|\n",
      "|         715600.0|       8|\n",
      "|         685830.0|       7|\n",
      "|         660000.0|      10|\n",
      "|         520000.0|      11|\n",
      "|         640000.0|      33|\n",
      "|435478.5604699378|       2|\n",
      "|         691500.0|       0|\n",
      "+-----------------+--------+\n",
      "\n"
     ]
    }
   ],
   "source": [
    "df.registerTempTable('df')\n",
    "bedrooms = spark.sql(r'''SELECT avg(price), bedrooms FROM df GROUP BY bedrooms''')\n",
    "bedrooms.show()"
   ]
  },
  {
   "cell_type": "code",
   "execution_count": 12,
   "metadata": {},
   "outputs": [
    {
     "name": "stdout",
     "output_type": "stream",
     "text": [
      "+------+--------+\n",
      "| price|bedrooms|\n",
      "+------+--------+\n",
      "|221900|       3|\n",
      "|538000|       3|\n",
      "|180000|       2|\n",
      "|662500|       3|\n",
      "|468000|       2|\n",
      "|530000|       5|\n",
      "|650000|       4|\n",
      "|485000|       4|\n",
      "|385000|       4|\n",
      "|937000|       3|\n",
      "+------+--------+\n",
      "only showing top 10 rows\n",
      "\n"
     ]
    }
   ],
   "source": [
    "df.select('price', 'bedrooms').show(10)"
   ]
  },
  {
   "cell_type": "code",
   "execution_count": 13,
   "metadata": {},
   "outputs": [
    {
     "name": "stdout",
     "output_type": "stream",
     "text": [
      "+--------+-----+\n",
      "|bedrooms|count|\n",
      "+--------+-----+\n",
      "|       1|   99|\n",
      "|       6|   84|\n",
      "|       3| 2538|\n",
      "|       5|  331|\n",
      "|       9|    6|\n",
      "|       4| 1325|\n",
      "|       8|    5|\n",
      "|       7|   12|\n",
      "|      10|    1|\n",
      "|      11|    1|\n",
      "|      33|    1|\n",
      "|       2| 1447|\n",
      "|       0|    2|\n",
      "+--------+-----+\n",
      "\n"
     ]
    }
   ],
   "source": [
    "df.groupBy('bedrooms').count().show()"
   ]
  },
  {
   "cell_type": "code",
   "execution_count": 14,
   "metadata": {},
   "outputs": [
    {
     "name": "stdout",
     "output_type": "stream",
     "text": [
      "+------+--------+---------+-----------+--------+------+----------+----+---------+-----+----------+-------------+--------+-------------+----------+----------+-------------+----------------+----------------+------+-----------------+------------------+------------------+\n",
      "| price|bedrooms|bathrooms|sqft_living|sqft_lot|floors|waterfront|view|condition|grade|sqft_above|sqft_basement|yr_built|sqft_living15|sqft_lot15|walk_score|transit_score|pers_crime_score|prop_crime_score|income|renovated_yrs_ago|         log_price|   price_per_sq_ft|\n",
      "+------+--------+---------+-----------+--------+------+----------+----+---------+-----+----------+-------------+--------+-------------+----------+----------+-------------+----------------+----------------+------+-----------------+------------------+------------------+\n",
      "|221900|       3|      1.0|       1180|    5650|   1.0|         0|   0|        3|    7|      1180|            0|      60|         1340|      5650|        46|           46|               2|               3| 71524|               60|12.309982108920686|188.05084745762713|\n",
      "|538000|       3|     2.25|       2570|    7242|   2.0|         0|   0|        3|    7|      2170|          400|      64|         1690|      7639|        64|           50|               2|               3| 56208|               24|13.195613839143922| 209.3385214007782|\n",
      "|180000|       2|      1.0|        770|   10000|   1.0|         0|   0|        3|    6|       770|            0|      82|         2720|      8062|        19|           26|               2|               3| 96863|               82|12.100712129872347|233.76623376623377|\n",
      "|662500|       3|      2.5|       3560|    9796|   1.0|         0|   0|        3|    8|      1860|         1700|      50|         2210|      8925|        46|           40|               3|               3| 72383|               50|13.403775836842515|186.09550561797752|\n",
      "|468000|       2|      1.0|       1160|    6000|   1.0|         0|   0|        4|    7|       860|          300|      73|         1330|      6000|        72|           48|               1|               2|103917|               73|13.056223574899784|403.44827586206895|\n",
      "+------+--------+---------+-----------+--------+------+----------+----+---------+-----+----------+-------------+--------+-------------+----------+----------+-------------+----------------+----------------+------+-----------------+------------------+------------------+\n",
      "only showing top 5 rows\n",
      "\n"
     ]
    }
   ],
   "source": [
    "# Divide one column by another, save result as new column (save as new df to make permanent)\n",
    "df.withColumn('price_per_sq_ft', df['price'] / df['sqft_living']).show(5)"
   ]
  },
  {
   "cell_type": "code",
   "execution_count": 15,
   "metadata": {},
   "outputs": [
    {
     "name": "stdout",
     "output_type": "stream",
     "text": [
      "+------+--------+---------+-----------+--------+------+----------+----+---------+-----+----------+-------------+--------+-------------+----------+----------+-------------+----------------+----------------+------+-----------------+------------------+----------+\n",
      "| price|bedrooms|bathrooms|sqft_living|sqft_lot|floors|waterfront|view|condition|grade|sqft_above|sqft_basement|yr_built|sqft_living15|sqft_lot15|walk_score|transit_score|pers_crime_score|prop_crime_score|income|renovated_yrs_ago|         log_price|new_column|\n",
      "+------+--------+---------+-----------+--------+------+----------+----+---------+-----+----------+-------------+--------+-------------+----------+----------+-------------+----------------+----------------+------+-----------------+------------------+----------+\n",
      "|221900|       3|      1.0|       1180|    5650|   1.0|         0|   0|        3|    7|      1180|            0|      60|         1340|      5650|        46|           46|               2|               3| 71524|               60|12.309982108920686|      true|\n",
      "|538000|       3|     2.25|       2570|    7242|   2.0|         0|   0|        3|    7|      2170|          400|      64|         1690|      7639|        64|           50|               2|               3| 56208|               24|13.195613839143922|      true|\n",
      "|180000|       2|      1.0|        770|   10000|   1.0|         0|   0|        3|    6|       770|            0|      82|         2720|      8062|        19|           26|               2|               3| 96863|               82|12.100712129872347|      true|\n",
      "|662500|       3|      2.5|       3560|    9796|   1.0|         0|   0|        3|    8|      1860|         1700|      50|         2210|      8925|        46|           40|               3|               3| 72383|               50|13.403775836842515|      true|\n",
      "|468000|       2|      1.0|       1160|    6000|   1.0|         0|   0|        4|    7|       860|          300|      73|         1330|      6000|        72|           48|               1|               2|103917|               73|13.056223574899784|     false|\n",
      "+------+--------+---------+-----------+--------+------+----------+----+---------+-----+----------+-------------+--------+-------------+----------+----------+-------------+----------------+----------------+------+-----------------+------------------+----------+\n",
      "only showing top 5 rows\n",
      "\n"
     ]
    }
   ],
   "source": [
    "# Create new column with lambda function - if condition of home lower than 4. Again, did not save this to our dataframe (just for my reference)\n",
    "condition_udf = udf(lambda condition: True if condition < 4 else False)\n",
    "df.withColumn('new_column', condition_udf(df['condition'])).show(5)"
   ]
  },
  {
   "cell_type": "code",
   "execution_count": 16,
   "metadata": {},
   "outputs": [
    {
     "name": "stdout",
     "output_type": "stream",
     "text": [
      "+---------+-----+\n",
      "|bathrooms|count|\n",
      "+---------+-----+\n",
      "|      1.0| 1629|\n",
      "|     1.75|  837|\n",
      "|      2.5|  779|\n",
      "|      2.0|  667|\n",
      "|      1.5|  538|\n",
      "|     2.25|  430|\n",
      "|      3.0|  252|\n",
      "|     2.75|  242|\n",
      "|      3.5|  181|\n",
      "|     3.25|  176|\n",
      "+---------+-----+\n",
      "only showing top 10 rows\n",
      "\n"
     ]
    }
   ],
   "source": [
    "df.groupBy('bathrooms').count().sort(desc('count')).show(10)"
   ]
  },
  {
   "cell_type": "markdown",
   "metadata": {},
   "source": [
    "### Train-test split"
   ]
  },
  {
   "cell_type": "code",
   "execution_count": 17,
   "metadata": {},
   "outputs": [],
   "source": [
    "X = df.select(['bedrooms',\n",
    " 'bathrooms',\n",
    " 'sqft_living',\n",
    " 'sqft_lot',\n",
    " 'floors',\n",
    " 'waterfront',\n",
    " 'view',\n",
    " 'condition',\n",
    " 'grade',\n",
    " 'sqft_above',\n",
    " 'sqft_basement',\n",
    " 'yr_built',\n",
    " 'sqft_living15',\n",
    " 'sqft_lot15',\n",
    " 'walk_score',\n",
    " 'transit_score',\n",
    " 'pers_crime_score',\n",
    " 'prop_crime_score',\n",
    " 'income',\n",
    " 'renovated_yrs_ago'])\n",
    "\n",
    "y = df.select(['log_price'])"
   ]
  },
  {
   "cell_type": "code",
   "execution_count": 18,
   "metadata": {},
   "outputs": [],
   "source": [
    "train_df, test_df = df.randomSplit([0.7, 0.3], seed=41)"
   ]
  },
  {
   "cell_type": "code",
   "execution_count": 19,
   "metadata": {},
   "outputs": [
    {
     "name": "stdout",
     "output_type": "stream",
     "text": [
      "(4086, 22)\n"
     ]
    }
   ],
   "source": [
    "print((train_df.count(), len(test_df.columns)))"
   ]
  },
  {
   "cell_type": "code",
   "execution_count": 20,
   "metadata": {},
   "outputs": [
    {
     "name": "stdout",
     "output_type": "stream",
     "text": [
      "+--------------------+------------------+\n",
      "|            features|         log_price|\n",
      "+--------------------+------------------+\n",
      "|[3.0,1.0,1180.0,5...|12.309982108920686|\n",
      "|[3.0,2.25,2570.0,...|13.195613839143922|\n",
      "+--------------------+------------------+\n",
      "only showing top 2 rows\n",
      "\n"
     ]
    }
   ],
   "source": [
    "col_names = ['bedrooms',\n",
    " 'bathrooms',\n",
    " 'sqft_living',\n",
    " 'sqft_lot',\n",
    " 'floors',\n",
    " 'waterfront',\n",
    " 'view',\n",
    " 'condition',\n",
    " 'grade',\n",
    " 'sqft_above',\n",
    " 'sqft_basement',\n",
    " 'yr_built',\n",
    " 'sqft_living15',\n",
    " 'sqft_lot15',\n",
    " 'walk_score',\n",
    " 'transit_score',\n",
    " 'pers_crime_score',\n",
    " 'prop_crime_score',\n",
    " 'income',\n",
    " 'renovated_yrs_ago']\n",
    "\n",
    "vectorAssembler = VectorAssembler(inputCols=col_names, outputCol='features')\n",
    "df_vec = vectorAssembler.transform(df)\n",
    "df_vec = df_vec.select(['features', 'log_price'])\n",
    "df_vec.show(2)"
   ]
  },
  {
   "cell_type": "code",
   "execution_count": 21,
   "metadata": {},
   "outputs": [],
   "source": [
    "train_df_vec, test_df_vec = df_vec.randomSplit([0.7, 0.3], seed=41)"
   ]
  },
  {
   "cell_type": "markdown",
   "metadata": {},
   "source": [
    "### Fit the Linear Model"
   ]
  },
  {
   "cell_type": "code",
   "execution_count": 22,
   "metadata": {},
   "outputs": [
    {
     "name": "stdout",
     "output_type": "stream",
     "text": [
      "Coefficients: [0.0014120365331601508,0.01676982191138472,9.356553304619151e-05,1.4971286256994199e-06,-0.016368237950986873,0.4807758661816554,0.04724522202278337,0.0616827699313226,0.13431494839992134,0.00013030611296370933,5.5419912317765475e-05,0.00231676823846281,0.00012779473372970143,-5.29752396847563e-07,0.00544690741122347,0.0027578469879139538,-0.0615313975238129,-0.031683471618067255,3.3823416719886758e-06,-0.0007167967870149108]\n",
      "\n",
      "Intercept: 10.622309741315698\n"
     ]
    }
   ],
   "source": [
    "lr = LinearRegression(featuresCol='features', labelCol='log_price', standardization=False)\n",
    "lr_model = lr.fit(train_df_vec)\n",
    "print(\"Coefficients: \" + str(lr_model.coefficients))\n",
    "print()\n",
    "print(\"Intercept: \" + str(lr_model.intercept))"
   ]
  },
  {
   "cell_type": "code",
   "execution_count": 23,
   "metadata": {},
   "outputs": [
    {
     "data": {
      "text/plain": [
       "[(0.4807758661816554, 'waterfront'),\n",
       " (0.13431494839992134, 'grade'),\n",
       " (0.0616827699313226, 'condition'),\n",
       " (0.04724522202278337, 'view'),\n",
       " (0.01676982191138472, 'bathrooms'),\n",
       " (0.00544690741122347, 'walk_score'),\n",
       " (0.0027578469879139538, 'transit_score'),\n",
       " (0.00231676823846281, 'yr_built'),\n",
       " (0.0014120365331601508, 'bedrooms'),\n",
       " (0.00013030611296370933, 'sqft_above'),\n",
       " (0.00012779473372970143, 'sqft_living15'),\n",
       " (9.356553304619151e-05, 'sqft_living'),\n",
       " (5.5419912317765475e-05, 'sqft_basement'),\n",
       " (3.3823416719886758e-06, 'income'),\n",
       " (1.4971286256994199e-06, 'sqft_lot'),\n",
       " (-5.29752396847563e-07, 'sqft_lot15'),\n",
       " (-0.0007167967870149108, 'renovated_yrs_ago'),\n",
       " (-0.016368237950986873, 'floors'),\n",
       " (-0.031683471618067255, 'prop_crime_score'),\n",
       " (-0.0615313975238129, 'pers_crime_score')]"
      ]
     },
     "execution_count": 23,
     "metadata": {},
     "output_type": "execute_result"
    }
   ],
   "source": [
    "def sort_coefficients(model):\n",
    "    \"\"\"Returns a given linear model's sorted coefficients.\"\"\"\n",
    "    return sorted(list(zip(lr_model.coefficients, col_names)), reverse=True)\n",
    "\n",
    "sort_coefficients(lr_model)"
   ]
  },
  {
   "cell_type": "code",
   "execution_count": 24,
   "metadata": {},
   "outputs": [
    {
     "name": "stdout",
     "output_type": "stream",
     "text": [
      "R^2: 0.7463\n",
      "RMSE: 0.2126\n"
     ]
    },
    {
     "data": {
      "text/plain": [
       "<pyspark.ml.regression.LinearRegressionTrainingSummary at 0x107ac6198>"
      ]
     },
     "execution_count": 24,
     "metadata": {},
     "output_type": "execute_result"
    }
   ],
   "source": [
    "def training_summary(model):\n",
    "    \"\"\"Prints out R^2 and RMSE and returns trainingSummary given a model.\"\"\"\n",
    "    training_summary = model.summary\n",
    "    print(f'R^2: {round(training_summary.r2, 4)}')\n",
    "    print(f'RMSE: {round(training_summary.rootMeanSquaredError, 4)}')\n",
    "    return training_summary\n",
    "\n",
    "training_summary(lr_model)"
   ]
  },
  {
   "cell_type": "code",
   "execution_count": 25,
   "metadata": {},
   "outputs": [
    {
     "name": "stdout",
     "output_type": "stream",
     "text": [
      "+------------------+------------------+--------------------+\n",
      "|        prediction|         log_price|            features|\n",
      "+------------------+------------------+--------------------+\n",
      "|12.698925408373261|12.449018824140563|[1.0,0.5,880.0,16...|\n",
      "| 12.65886953365868|12.577636201962656|[1.0,0.75,740.0,1...|\n",
      "|12.657726789110075|12.768541502448002|[1.0,0.75,930.0,6...|\n",
      "|13.026544779377419|12.708664464369061|[1.0,1.0,580.0,17...|\n",
      "|12.708244742655083|12.216022976383341|[1.0,1.0,590.0,83...|\n",
      "+------------------+------------------+--------------------+\n",
      "only showing top 5 rows\n",
      "\n",
      "R Squared (R2) on test data = 0.753261\n"
     ]
    }
   ],
   "source": [
    "lr_predictions = lr_model.transform(test_df_vec)\n",
    "lr_predictions.select(\"prediction\",\"log_price\",\"features\").show(5)\n",
    "\n",
    "lr_evaluator = RegressionEvaluator(predictionCol=\"prediction\", \\\n",
    "                 labelCol=\"log_price\",metricName=\"r2\")\n",
    "print(\"R Squared (R2) on test data = %g\" % lr_evaluator.evaluate(lr_predictions))"
   ]
  },
  {
   "cell_type": "markdown",
   "metadata": {},
   "source": [
    "### Create Pipeline"
   ]
  },
  {
   "cell_type": "code",
   "execution_count": 26,
   "metadata": {},
   "outputs": [
    {
     "name": "stdout",
     "output_type": "stream",
     "text": [
      "+------+--------+---------+-----------+--------+------+----------+----+---------+-----+----------+-------------+--------+-------------+----------+----------+-------------+----------------+----------------+------+-----------------+------------------+\n",
      "| price|bedrooms|bathrooms|sqft_living|sqft_lot|floors|waterfront|view|condition|grade|sqft_above|sqft_basement|yr_built|sqft_living15|sqft_lot15|walk_score|transit_score|pers_crime_score|prop_crime_score|income|renovated_yrs_ago|         log_price|\n",
      "+------+--------+---------+-----------+--------+------+----------+----+---------+-----+----------+-------------+--------+-------------+----------+----------+-------------+----------------+----------------+------+-----------------+------------------+\n",
      "|221900|       3|      1.0|       1180|    5650|   1.0|         0|   0|        3|    7|      1180|            0|      60|         1340|      5650|        46|           46|               2|               3| 71524|               60|12.309982108920686|\n",
      "|538000|       3|     2.25|       2570|    7242|   2.0|         0|   0|        3|    7|      2170|          400|      64|         1690|      7639|        64|           50|               2|               3| 56208|               24|13.195613839143922|\n",
      "+------+--------+---------+-----------+--------+------+----------+----+---------+-----+----------+-------------+--------+-------------+----------+----------+-------------+----------------+----------------+------+-----------------+------------------+\n",
      "only showing top 2 rows\n",
      "\n"
     ]
    }
   ],
   "source": [
    "df.show(2)"
   ]
  },
  {
   "cell_type": "code",
   "execution_count": 27,
   "metadata": {},
   "outputs": [
    {
     "name": "stdout",
     "output_type": "stream",
     "text": [
      "+------+--------+---------+-----------+--------+------+----------+----+---------+-----+----------+-------------+--------+-------------+----------+----------+-------------+----------------+----------------+------+-----------------+------------------+--------------+\n",
      "| price|bedrooms|bathrooms|sqft_living|sqft_lot|floors|waterfront|view|condition|grade|sqft_above|sqft_basement|yr_built|sqft_living15|sqft_lot15|walk_score|transit_score|pers_crime_score|prop_crime_score|income|renovated_yrs_ago|         log_price|renovated_year|\n",
      "+------+--------+---------+-----------+--------+------+----------+----+---------+-----+----------+-------------+--------+-------------+----------+----------+-------------+----------------+----------------+------+-----------------+------------------+--------------+\n",
      "|221900|       3|      1.0|       1180|    5650|   1.0|         0|   0|        3|    7|      1180|            0|      60|         1340|      5650|        46|           46|               2|               3| 71524|               60|12.309982108920686|          1959|\n",
      "|538000|       3|     2.25|       2570|    7242|   2.0|         0|   0|        3|    7|      2170|          400|      64|         1690|      7639|        64|           50|               2|               3| 56208|               24|13.195613839143922|          1995|\n",
      "|180000|       2|      1.0|        770|   10000|   1.0|         0|   0|        3|    6|       770|            0|      82|         2720|      8062|        19|           26|               2|               3| 96863|               82|12.100712129872347|          1937|\n",
      "+------+--------+---------+-----------+--------+------+----------+----+---------+-----+----------+-------------+--------+-------------+----------+----------+-------------+----------------+----------------+------+-----------------+------------------+--------------+\n",
      "only showing top 3 rows\n",
      "\n"
     ]
    }
   ],
   "source": [
    "# Create a new column to calculate year home was renovated\n",
    "df.withColumn('renovated_year', 2019 - df['renovated_yrs_ago']).show(3)"
   ]
  },
  {
   "cell_type": "code",
   "execution_count": 28,
   "metadata": {},
   "outputs": [
    {
     "name": "stdout",
     "output_type": "stream",
     "text": [
      "+------+--------+\n",
      "| price|bedrooms|\n",
      "+------+--------+\n",
      "|530000|       5|\n",
      "|650000|       4|\n",
      "|485000|       4|\n",
      "|385000|       4|\n",
      "|687500|       4|\n",
      "+------+--------+\n",
      "only showing top 5 rows\n",
      "\n"
     ]
    }
   ],
   "source": [
    "new = spark.sql(r'''\n",
    "SELECT price, bedrooms\n",
    "FROM df\n",
    "WHERE bedrooms >= 4''')\n",
    "new.show(5)"
   ]
  },
  {
   "cell_type": "code",
   "execution_count": 45,
   "metadata": {},
   "outputs": [],
   "source": [
    "scaler = StandardScaler(inputCol='features', outputCol='scaled_features')"
   ]
  },
  {
   "cell_type": "code",
   "execution_count": 40,
   "metadata": {},
   "outputs": [
    {
     "data": {
      "text/plain": [
       "DenseVector([3.1268, 1.9083, 1755.2425, 5288.3161, 1.5277, 0.0019, 0.2442, 3.4448, 7.37, 1403.9357, 351.3067, 61.3059, 1647.2813, 5202.7256, 67.6811, 52.6048, 1.9609, 2.0998, 81775.0682, 57.034])"
      ]
     },
     "execution_count": 40,
     "metadata": {},
     "output_type": "execute_result"
    }
   ],
   "source": [
    "z.mean"
   ]
  },
  {
   "cell_type": "code",
   "execution_count": 41,
   "metadata": {},
   "outputs": [
    {
     "data": {
      "text/plain": [
       "DenseVector([1.0715, 0.7756, 721.2421, 5906.4902, 0.6112, 0.0433, 0.7471, 0.7037, 0.9391, 553.3933, 414.061, 35.0486, 459.8348, 6063.9944, 18.9223, 11.1084, 0.8314, 0.8805, 26074.2382, 35.8311])"
      ]
     },
     "execution_count": 41,
     "metadata": {},
     "output_type": "execute_result"
    }
   ],
   "source": [
    "z.std"
   ]
  },
  {
   "cell_type": "markdown",
   "metadata": {},
   "source": [
    "#### Create a pipeline"
   ]
  },
  {
   "cell_type": "code",
   "execution_count": 33,
   "metadata": {},
   "outputs": [
    {
     "name": "stdout",
     "output_type": "stream",
     "text": [
      "R Squared (R^2) on test data = 0.74923\n",
      "+------------------+------------------+--------------------+\n",
      "|        prediction|         log_price|            features|\n",
      "+------------------+------------------+--------------------+\n",
      "|12.474578371044746|11.580584113444043|[3.0,1.5,910.0,51...|\n",
      "|12.686302284486954|11.736069016284437|[3.0,1.0,1230.0,4...|\n",
      "| 12.59558726473031| 11.79810440720389|[5.0,2.0,1430.0,5...|\n",
      "|12.625001600151219|11.918390573078392|[4.0,2.0,1460.0,7...|\n",
      "|12.373305287825216|11.925035115797062|[2.0,1.0,720.0,42...|\n",
      "+------------------+------------------+--------------------+\n",
      "only showing top 5 rows\n",
      "\n"
     ]
    }
   ],
   "source": [
    "pipeline = Pipeline(stages=[vectorAssembler, scaler, lr]) \n",
    "\n",
    "# fit and transform\n",
    "lr_model2 = pipeline.fit(train_df)\n",
    "lr_pred2 = lr_model2.transform(test_df)\n",
    "\n",
    "# the results are the same for GBT as the second table above\n",
    "lr_evaluator = RegressionEvaluator(predictionCol=\"prediction\", \\\n",
    "                 labelCol=\"log_price\", metricName=\"r2\")\n",
    "print(\"R Squared (R^2) on test data = %g\" % lr_evaluator.evaluate(lr_pred2))\n",
    "lr_pred2.select(\"prediction\", \"log_price\", \"features\").show(5)"
   ]
  },
  {
   "cell_type": "code",
   "execution_count": null,
   "metadata": {},
   "outputs": [],
   "source": []
  }
 ],
 "metadata": {
  "kernelspec": {
   "display_name": "Python 3",
   "language": "python",
   "name": "python3"
  },
  "language_info": {
   "codemirror_mode": {
    "name": "ipython",
    "version": 3
   },
   "file_extension": ".py",
   "mimetype": "text/x-python",
   "name": "python",
   "nbconvert_exporter": "python",
   "pygments_lexer": "ipython3",
   "version": "3.6.6"
  }
 },
 "nbformat": 4,
 "nbformat_minor": 2
}
