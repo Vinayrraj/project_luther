{
 "cells": [
  {
   "cell_type": "code",
   "execution_count": 185,
   "metadata": {},
   "outputs": [],
   "source": [
    "import pandas as pd\n",
    "import numpy as np\n",
    "\n",
    "from selenium import webdriver\n",
    "from selenium.webdriver.common.keys import Keys\n",
    "from selenium.common.exceptions import NoSuchElementException\n",
    "import time\n",
    "\n",
    "import os\n",
    "\n",
    "from bs4 import BeautifulSoup\n",
    "\n",
    "import requests\n",
    "\n",
    "chromedriver = f\"/Users/brenner/chromedriver\" # path to the chromedriver executable\n",
    "os.environ[\"webdriver.chrome.driver\"] = chromedriver"
   ]
  },
  {
   "cell_type": "code",
   "execution_count": null,
   "metadata": {},
   "outputs": [],
   "source": [
    "# def get_walkscore(list_of_hoods):\n",
    "#     driver = webdriver.Chrome(chromedriver)\n",
    "#     for neighborhood in list_of_hoods:\n",
    "#         url = f'https://www.walkscore.com/WA/{neighborhood}'\n",
    "#         try:\n",
    "#             driver.get(url)\n",
    "#             time.sleep(5)\n",
    "            \n",
    "#             try:\n",
    "#                 walk_path = '//*[@id=\"hood-badges\"]/div/div/div/div/div/img[1]'\n",
    "#                 walk_elem = driver.find_element_by_xpath(walk_path)\n",
    "#                 walk_score = walk_elem.get_attribute(\"src\")\n",
    "\n",
    "#                 walk_score = walk_score.split('/')[-1][:2]\n",
    "\n",
    "#                 walk_score\n",
    "#             except NoSuchElementException:\n",
    "#                 print('No Walk Score on this page.')\n",
    "#                 pass\n",
    "            \n",
    "#             try:\n",
    "#                 transit_path = '//*[@id=\"hood-badges\"]/div/div/div/div/div/img[2]'\n",
    "#                 transit_elem = driver.find_element_by_xpath(transit_path)\n",
    "#                 transit_score = transit_elem.get_attribute(\"src\")\n",
    "\n",
    "#                 transit_score = transit_score.split('/')[-1][:2]\n",
    "\n",
    "#                 transit_score\n",
    "\n",
    "#             except NoSuchElementException:\n",
    "#                 print('No Transit Score on this page.')\n",
    "#                 pass\n",
    "            \n",
    "                \n",
    "                "
   ]
  },
  {
   "cell_type": "code",
   "execution_count": 87,
   "metadata": {},
   "outputs": [],
   "source": [
    "walk_score = driver.find_element_by_id(\"hood-badges\")\n",
    "walk_score_2 = driver.find_element_by_xpath(xpath)"
   ]
  },
  {
   "cell_type": "code",
   "execution_count": 88,
   "metadata": {},
   "outputs": [
    {
     "data": {
      "text/plain": [
       "'https://pp.walk.sc/badge/walk/score/31.svg'"
      ]
     },
     "execution_count": 88,
     "metadata": {},
     "output_type": "execute_result"
    }
   ],
   "source": [
    "walk_score_2 = driver.find_element_by_xpath(xpath)\n",
    "walk_score_2.get_attribute(\"src\")"
   ]
  },
  {
   "cell_type": "code",
   "execution_count": 96,
   "metadata": {},
   "outputs": [],
   "source": [
    "try:\n",
    "    walk_path = '//*[@id=\"hood-badges\"]/div/div/div/div/div/img[1]'\n",
    "    walk_elem = driver.find_element_by_xpath(walk_path)\n",
    "    walk_score = walk_elem.get_attribute(\"src\")\n",
    "\n",
    "    walk_score = walk_score.split('/')[-1][:2]\n",
    "\n",
    "    walk_score\n",
    "except NoSuchElementException:\n",
    "    print('No Walk Score on this page.')"
   ]
  },
  {
   "cell_type": "code",
   "execution_count": 97,
   "metadata": {
    "scrolled": true
   },
   "outputs": [],
   "source": [
    "try:\n",
    "    transit_path = '//*[@id=\"hood-badges\"]/div/div/div/div/div/img[2]'\n",
    "    transit_elem = driver.find_element_by_xpath(transit_path)\n",
    "    transit_score = transit_elem.get_attribute(\"src\")\n",
    "\n",
    "    transit_score = transit_score.split('/')[-1][:2]\n",
    "\n",
    "    transit_score\n",
    "    \n",
    "except NoSuchElementException:\n",
    "    print('No Transit Score on this page.')"
   ]
  },
  {
   "cell_type": "code",
   "execution_count": 98,
   "metadata": {},
   "outputs": [
    {
     "name": "stdout",
     "output_type": "stream",
     "text": [
      "No Bike Score on this page.\n"
     ]
    }
   ],
   "source": [
    "# Not all areas have a bike score\n",
    "\n",
    "try:\n",
    "    bike_path = '//*[@id=\"hood-badges\"]/div/div/div/div/div/img[3]'\n",
    "    bike_elem = driver.find_element_by_xpath(bike_path)\n",
    "    bike_score = bike_elem.get_attribute(\"src\")\n",
    "\n",
    "    bike_score = bike_score.split('/')[-1][:2]\n",
    "\n",
    "    bike_score\n",
    "except NoSuchElementException:\n",
    "    print('No Bike Score on this page.')"
   ]
  },
  {
   "cell_type": "code",
   "execution_count": 175,
   "metadata": {},
   "outputs": [],
   "source": [
    "driver = webdriver.Chrome(chromedriver)"
   ]
  },
  {
   "cell_type": "code",
   "execution_count": 176,
   "metadata": {},
   "outputs": [],
   "source": [
    "list_of_walk_scores = defaultdict(str)"
   ]
  },
  {
   "cell_type": "code",
   "execution_count": 181,
   "metadata": {},
   "outputs": [],
   "source": [
    "# Must have driver session already started\n",
    "\n",
    "def get_scores(neighborhood):\n",
    "    scores_list = []\n",
    "    \n",
    "#     walk = '//*[@id=\"hood-badges\"]/div/div/div/div/div/img[1]'\n",
    "#     transit = '//*[@id=\"hood-badges\"]/div/div/div/div/div/img[2]'\n",
    "#     bike = '//*[@id=\"hood-badges\"]/div/div/div/div/div/img[3]'\n",
    "    \n",
    "#     walk = '//*[@id=\"address-header\"]/div[4]/div[1]/div[1]/div/img'\n",
    "#     transit = '//*[@id=\"address-header\"]/div[4]/div[1]/div[2]/div/img'\n",
    "#     bike = '//*[@id=\"address-header\"]/div[4]/div[1]/div[3]/div/img'\n",
    "#     personal_crime = '//*[@id=\"crime-grade\"]/div[2]/div[1]/div[1]/div[1]'\n",
    "#     prop_crime = '//*[@id=\"crime-grade\"]/div[2]/div[1]/div[2]/div[1]'\n",
    "    \n",
    "    walk = '//*[@id=\"address-header\"]/div[4]/div[1]/div[1]/div/img'\n",
    "    transit = '//*[@id=\"address-header\"]/div[4]/div[1]/div[2]/div/img'\n",
    "    bike = '//*[@id=\"address-header\"]/div[4]/div[1]/div[3]/div/img'\n",
    "    \n",
    "    \n",
    "    url = f'https://www.walkscore.com/'\n",
    "    \n",
    "    driver.get(url)\n",
    "    time.sleep(5)\n",
    "    \n",
    "    for path in [walk, transit, bike]:\n",
    "        print(path)\n",
    "        try:\n",
    "            elem = driver.find_element_by_xpath(path)\n",
    "            score = elem.get_attribute(\"src\")\n",
    "            score = score.split('/')[-1][:2]\n",
    "            \n",
    "            scores_list.append(score)\n",
    "            print(f'{Path} score is {score}')\n",
    "        \n",
    "        except NoSuchElementException:\n",
    "            scores_list.append(0)\n",
    "            print(f'No Score on this page.')\n",
    "    list_of_walk_scores[neighborhood] == scores_list\n",
    "    return scores_list"
   ]
  },
  {
   "cell_type": "code",
   "execution_count": 182,
   "metadata": {},
   "outputs": [
    {
     "ename": "NoSuchElementException",
     "evalue": "Message: no such element: Unable to locate element: {\"method\":\"css selector\",\"selector\":\"#addrbar-street\"}\n  (Session info: chrome=69.0.3497.100)\n  (Driver info: chromedriver=2.42.591059 (a3d9684d10d61aa0c45f6723b327283be1ebaad8),platform=Mac OS X 10.13.6 x86_64)\n",
     "output_type": "error",
     "traceback": [
      "\u001b[0;31m---------------------------------------------------------------------------\u001b[0m",
      "\u001b[0;31mNoSuchElementException\u001b[0m                    Traceback (most recent call last)",
      "\u001b[0;32m<ipython-input-182-73fc185cf173>\u001b[0m in \u001b[0;36m<module>\u001b[0;34m()\u001b[0m\n\u001b[0;32m----> 1\u001b[0;31m \u001b[0mget_scores\u001b[0m\u001b[0;34m(\u001b[0m\u001b[0;34m'Burien'\u001b[0m\u001b[0;34m)\u001b[0m\u001b[0;34m\u001b[0m\u001b[0m\n\u001b[0m",
      "\u001b[0;32m<ipython-input-181-903385d02325>\u001b[0m in \u001b[0;36mget_scores\u001b[0;34m(neighborhood)\u001b[0m\n\u001b[1;32m     21\u001b[0m     \u001b[0murl\u001b[0m \u001b[0;34m=\u001b[0m \u001b[0;34mf'https://www.walkscore.com/'\u001b[0m\u001b[0;34m\u001b[0m\u001b[0m\n\u001b[1;32m     22\u001b[0m \u001b[0;34m\u001b[0m\u001b[0m\n\u001b[0;32m---> 23\u001b[0;31m     \u001b[0melem\u001b[0m \u001b[0;34m=\u001b[0m \u001b[0mdriver\u001b[0m\u001b[0;34m.\u001b[0m\u001b[0mfind_element_by_css_selector\u001b[0m\u001b[0;34m(\u001b[0m\u001b[0;34m'#addrbar-street'\u001b[0m\u001b[0;34m)\u001b[0m\u001b[0;34m\u001b[0m\u001b[0m\n\u001b[0m\u001b[1;32m     24\u001b[0m \u001b[0;31m#     elem.clear()\u001b[0m\u001b[0;34m\u001b[0m\u001b[0;34m\u001b[0m\u001b[0m\n\u001b[1;32m     25\u001b[0m     \u001b[0melem\u001b[0m\u001b[0;34m.\u001b[0m\u001b[0msend_keys\u001b[0m\u001b[0;34m(\u001b[0m\u001b[0mneighborhood\u001b[0m\u001b[0;34m)\u001b[0m\u001b[0;34m\u001b[0m\u001b[0m\n",
      "\u001b[0;32m~/anaconda3/lib/python3.6/site-packages/selenium/webdriver/remote/webdriver.py\u001b[0m in \u001b[0;36mfind_element_by_css_selector\u001b[0;34m(self, css_selector)\u001b[0m\n\u001b[1;32m    587\u001b[0m             \u001b[0melement\u001b[0m \u001b[0;34m=\u001b[0m \u001b[0mdriver\u001b[0m\u001b[0;34m.\u001b[0m\u001b[0mfind_element_by_css_selector\u001b[0m\u001b[0;34m(\u001b[0m\u001b[0;34m'#foo'\u001b[0m\u001b[0;34m)\u001b[0m\u001b[0;34m\u001b[0m\u001b[0m\n\u001b[1;32m    588\u001b[0m         \"\"\"\n\u001b[0;32m--> 589\u001b[0;31m         \u001b[0;32mreturn\u001b[0m \u001b[0mself\u001b[0m\u001b[0;34m.\u001b[0m\u001b[0mfind_element\u001b[0m\u001b[0;34m(\u001b[0m\u001b[0mby\u001b[0m\u001b[0;34m=\u001b[0m\u001b[0mBy\u001b[0m\u001b[0;34m.\u001b[0m\u001b[0mCSS_SELECTOR\u001b[0m\u001b[0;34m,\u001b[0m \u001b[0mvalue\u001b[0m\u001b[0;34m=\u001b[0m\u001b[0mcss_selector\u001b[0m\u001b[0;34m)\u001b[0m\u001b[0;34m\u001b[0m\u001b[0m\n\u001b[0m\u001b[1;32m    590\u001b[0m \u001b[0;34m\u001b[0m\u001b[0m\n\u001b[1;32m    591\u001b[0m     \u001b[0;32mdef\u001b[0m \u001b[0mfind_elements_by_css_selector\u001b[0m\u001b[0;34m(\u001b[0m\u001b[0mself\u001b[0m\u001b[0;34m,\u001b[0m \u001b[0mcss_selector\u001b[0m\u001b[0;34m)\u001b[0m\u001b[0;34m:\u001b[0m\u001b[0;34m\u001b[0m\u001b[0m\n",
      "\u001b[0;32m~/anaconda3/lib/python3.6/site-packages/selenium/webdriver/remote/webdriver.py\u001b[0m in \u001b[0;36mfind_element\u001b[0;34m(self, by, value)\u001b[0m\n\u001b[1;32m    953\u001b[0m         return self.execute(Command.FIND_ELEMENT, {\n\u001b[1;32m    954\u001b[0m             \u001b[0;34m'using'\u001b[0m\u001b[0;34m:\u001b[0m \u001b[0mby\u001b[0m\u001b[0;34m,\u001b[0m\u001b[0;34m\u001b[0m\u001b[0m\n\u001b[0;32m--> 955\u001b[0;31m             'value': value})['value']\n\u001b[0m\u001b[1;32m    956\u001b[0m \u001b[0;34m\u001b[0m\u001b[0m\n\u001b[1;32m    957\u001b[0m     \u001b[0;32mdef\u001b[0m \u001b[0mfind_elements\u001b[0m\u001b[0;34m(\u001b[0m\u001b[0mself\u001b[0m\u001b[0;34m,\u001b[0m \u001b[0mby\u001b[0m\u001b[0;34m=\u001b[0m\u001b[0mBy\u001b[0m\u001b[0;34m.\u001b[0m\u001b[0mID\u001b[0m\u001b[0;34m,\u001b[0m \u001b[0mvalue\u001b[0m\u001b[0;34m=\u001b[0m\u001b[0;32mNone\u001b[0m\u001b[0;34m)\u001b[0m\u001b[0;34m:\u001b[0m\u001b[0;34m\u001b[0m\u001b[0m\n",
      "\u001b[0;32m~/anaconda3/lib/python3.6/site-packages/selenium/webdriver/remote/webdriver.py\u001b[0m in \u001b[0;36mexecute\u001b[0;34m(self, driver_command, params)\u001b[0m\n\u001b[1;32m    310\u001b[0m         \u001b[0mresponse\u001b[0m \u001b[0;34m=\u001b[0m \u001b[0mself\u001b[0m\u001b[0;34m.\u001b[0m\u001b[0mcommand_executor\u001b[0m\u001b[0;34m.\u001b[0m\u001b[0mexecute\u001b[0m\u001b[0;34m(\u001b[0m\u001b[0mdriver_command\u001b[0m\u001b[0;34m,\u001b[0m \u001b[0mparams\u001b[0m\u001b[0;34m)\u001b[0m\u001b[0;34m\u001b[0m\u001b[0m\n\u001b[1;32m    311\u001b[0m         \u001b[0;32mif\u001b[0m \u001b[0mresponse\u001b[0m\u001b[0;34m:\u001b[0m\u001b[0;34m\u001b[0m\u001b[0m\n\u001b[0;32m--> 312\u001b[0;31m             \u001b[0mself\u001b[0m\u001b[0;34m.\u001b[0m\u001b[0merror_handler\u001b[0m\u001b[0;34m.\u001b[0m\u001b[0mcheck_response\u001b[0m\u001b[0;34m(\u001b[0m\u001b[0mresponse\u001b[0m\u001b[0;34m)\u001b[0m\u001b[0;34m\u001b[0m\u001b[0m\n\u001b[0m\u001b[1;32m    313\u001b[0m             response['value'] = self._unwrap_value(\n\u001b[1;32m    314\u001b[0m                 response.get('value', None))\n",
      "\u001b[0;32m~/anaconda3/lib/python3.6/site-packages/selenium/webdriver/remote/errorhandler.py\u001b[0m in \u001b[0;36mcheck_response\u001b[0;34m(self, response)\u001b[0m\n\u001b[1;32m    240\u001b[0m                 \u001b[0malert_text\u001b[0m \u001b[0;34m=\u001b[0m \u001b[0mvalue\u001b[0m\u001b[0;34m[\u001b[0m\u001b[0;34m'alert'\u001b[0m\u001b[0;34m]\u001b[0m\u001b[0;34m.\u001b[0m\u001b[0mget\u001b[0m\u001b[0;34m(\u001b[0m\u001b[0;34m'text'\u001b[0m\u001b[0;34m)\u001b[0m\u001b[0;34m\u001b[0m\u001b[0m\n\u001b[1;32m    241\u001b[0m             \u001b[0;32mraise\u001b[0m \u001b[0mexception_class\u001b[0m\u001b[0;34m(\u001b[0m\u001b[0mmessage\u001b[0m\u001b[0;34m,\u001b[0m \u001b[0mscreen\u001b[0m\u001b[0;34m,\u001b[0m \u001b[0mstacktrace\u001b[0m\u001b[0;34m,\u001b[0m \u001b[0malert_text\u001b[0m\u001b[0;34m)\u001b[0m\u001b[0;34m\u001b[0m\u001b[0m\n\u001b[0;32m--> 242\u001b[0;31m         \u001b[0;32mraise\u001b[0m \u001b[0mexception_class\u001b[0m\u001b[0;34m(\u001b[0m\u001b[0mmessage\u001b[0m\u001b[0;34m,\u001b[0m \u001b[0mscreen\u001b[0m\u001b[0;34m,\u001b[0m \u001b[0mstacktrace\u001b[0m\u001b[0;34m)\u001b[0m\u001b[0;34m\u001b[0m\u001b[0m\n\u001b[0m\u001b[1;32m    243\u001b[0m \u001b[0;34m\u001b[0m\u001b[0m\n\u001b[1;32m    244\u001b[0m     \u001b[0;32mdef\u001b[0m \u001b[0m_value_or_default\u001b[0m\u001b[0;34m(\u001b[0m\u001b[0mself\u001b[0m\u001b[0;34m,\u001b[0m \u001b[0mobj\u001b[0m\u001b[0;34m,\u001b[0m \u001b[0mkey\u001b[0m\u001b[0;34m,\u001b[0m \u001b[0mdefault\u001b[0m\u001b[0;34m)\u001b[0m\u001b[0;34m:\u001b[0m\u001b[0;34m\u001b[0m\u001b[0m\n",
      "\u001b[0;31mNoSuchElementException\u001b[0m: Message: no such element: Unable to locate element: {\"method\":\"css selector\",\"selector\":\"#addrbar-street\"}\n  (Session info: chrome=69.0.3497.100)\n  (Driver info: chromedriver=2.42.591059 (a3d9684d10d61aa0c45f6723b327283be1ebaad8),platform=Mac OS X 10.13.6 x86_64)\n"
     ]
    }
   ],
   "source": [
    "get_scores('Burien')"
   ]
  },
  {
   "cell_type": "code",
   "execution_count": 167,
   "metadata": {},
   "outputs": [
    {
     "ename": "NoSuchElementException",
     "evalue": "Message: no such element: Unable to locate element: {\"method\":\"class name\",\"selector\":\"ui\"}\n  (Session info: chrome=69.0.3497.100)\n  (Driver info: chromedriver=2.42.591059 (a3d9684d10d61aa0c45f6723b327283be1ebaad8),platform=Mac OS X 10.13.6 x86_64)\n",
     "output_type": "error",
     "traceback": [
      "\u001b[0;31m---------------------------------------------------------------------------\u001b[0m",
      "\u001b[0;31mNoSuchElementException\u001b[0m                    Traceback (most recent call last)",
      "\u001b[0;32m<ipython-input-167-a6dea0d8d3e0>\u001b[0m in \u001b[0;36m<module>\u001b[0;34m()\u001b[0m\n\u001b[1;32m      1\u001b[0m \u001b[0;32mfor\u001b[0m \u001b[0mhood\u001b[0m \u001b[0;32min\u001b[0m \u001b[0mhoods\u001b[0m\u001b[0;34m[\u001b[0m\u001b[0;36m0\u001b[0m\u001b[0;34m:\u001b[0m\u001b[0;36m100\u001b[0m\u001b[0;34m]\u001b[0m\u001b[0;34m:\u001b[0m\u001b[0;34m\u001b[0m\u001b[0m\n\u001b[0;32m----> 2\u001b[0;31m     \u001b[0mget_scores\u001b[0m\u001b[0;34m(\u001b[0m\u001b[0mhood\u001b[0m\u001b[0;34m)\u001b[0m\u001b[0;34m\u001b[0m\u001b[0m\n\u001b[0m",
      "\u001b[0;32m<ipython-input-165-700b6d0df459>\u001b[0m in \u001b[0;36mget_scores\u001b[0;34m(neighborhood)\u001b[0m\n\u001b[1;32m     21\u001b[0m     \u001b[0murl\u001b[0m \u001b[0;34m=\u001b[0m \u001b[0;34mf'https://www.walkscore.com/'\u001b[0m\u001b[0;34m\u001b[0m\u001b[0m\n\u001b[1;32m     22\u001b[0m \u001b[0;34m\u001b[0m\u001b[0m\n\u001b[0;32m---> 23\u001b[0;31m     \u001b[0melem\u001b[0m \u001b[0;34m=\u001b[0m \u001b[0mdriver\u001b[0m\u001b[0;34m.\u001b[0m\u001b[0mfind_element_by_class_name\u001b[0m\u001b[0;34m(\u001b[0m\u001b[0;34m'ui'\u001b[0m\u001b[0;34m)\u001b[0m\u001b[0;34m\u001b[0m\u001b[0m\n\u001b[0m\u001b[1;32m     24\u001b[0m \u001b[0;31m#     elem.clear()\u001b[0m\u001b[0;34m\u001b[0m\u001b[0;34m\u001b[0m\u001b[0m\n\u001b[1;32m     25\u001b[0m     \u001b[0melem\u001b[0m\u001b[0;34m.\u001b[0m\u001b[0msend_keys\u001b[0m\u001b[0;34m(\u001b[0m\u001b[0mneighborhood\u001b[0m\u001b[0;34m)\u001b[0m\u001b[0;34m\u001b[0m\u001b[0m\n",
      "\u001b[0;32m~/anaconda3/lib/python3.6/site-packages/selenium/webdriver/remote/webdriver.py\u001b[0m in \u001b[0;36mfind_element_by_class_name\u001b[0;34m(self, name)\u001b[0m\n\u001b[1;32m    553\u001b[0m             \u001b[0melement\u001b[0m \u001b[0;34m=\u001b[0m \u001b[0mdriver\u001b[0m\u001b[0;34m.\u001b[0m\u001b[0mfind_element_by_class_name\u001b[0m\u001b[0;34m(\u001b[0m\u001b[0;34m'foo'\u001b[0m\u001b[0;34m)\u001b[0m\u001b[0;34m\u001b[0m\u001b[0m\n\u001b[1;32m    554\u001b[0m         \"\"\"\n\u001b[0;32m--> 555\u001b[0;31m         \u001b[0;32mreturn\u001b[0m \u001b[0mself\u001b[0m\u001b[0;34m.\u001b[0m\u001b[0mfind_element\u001b[0m\u001b[0;34m(\u001b[0m\u001b[0mby\u001b[0m\u001b[0;34m=\u001b[0m\u001b[0mBy\u001b[0m\u001b[0;34m.\u001b[0m\u001b[0mCLASS_NAME\u001b[0m\u001b[0;34m,\u001b[0m \u001b[0mvalue\u001b[0m\u001b[0;34m=\u001b[0m\u001b[0mname\u001b[0m\u001b[0;34m)\u001b[0m\u001b[0;34m\u001b[0m\u001b[0m\n\u001b[0m\u001b[1;32m    556\u001b[0m \u001b[0;34m\u001b[0m\u001b[0m\n\u001b[1;32m    557\u001b[0m     \u001b[0;32mdef\u001b[0m \u001b[0mfind_elements_by_class_name\u001b[0m\u001b[0;34m(\u001b[0m\u001b[0mself\u001b[0m\u001b[0;34m,\u001b[0m \u001b[0mname\u001b[0m\u001b[0;34m)\u001b[0m\u001b[0;34m:\u001b[0m\u001b[0;34m\u001b[0m\u001b[0m\n",
      "\u001b[0;32m~/anaconda3/lib/python3.6/site-packages/selenium/webdriver/remote/webdriver.py\u001b[0m in \u001b[0;36mfind_element\u001b[0;34m(self, by, value)\u001b[0m\n\u001b[1;32m    953\u001b[0m         return self.execute(Command.FIND_ELEMENT, {\n\u001b[1;32m    954\u001b[0m             \u001b[0;34m'using'\u001b[0m\u001b[0;34m:\u001b[0m \u001b[0mby\u001b[0m\u001b[0;34m,\u001b[0m\u001b[0;34m\u001b[0m\u001b[0m\n\u001b[0;32m--> 955\u001b[0;31m             'value': value})['value']\n\u001b[0m\u001b[1;32m    956\u001b[0m \u001b[0;34m\u001b[0m\u001b[0m\n\u001b[1;32m    957\u001b[0m     \u001b[0;32mdef\u001b[0m \u001b[0mfind_elements\u001b[0m\u001b[0;34m(\u001b[0m\u001b[0mself\u001b[0m\u001b[0;34m,\u001b[0m \u001b[0mby\u001b[0m\u001b[0;34m=\u001b[0m\u001b[0mBy\u001b[0m\u001b[0;34m.\u001b[0m\u001b[0mID\u001b[0m\u001b[0;34m,\u001b[0m \u001b[0mvalue\u001b[0m\u001b[0;34m=\u001b[0m\u001b[0;32mNone\u001b[0m\u001b[0;34m)\u001b[0m\u001b[0;34m:\u001b[0m\u001b[0;34m\u001b[0m\u001b[0m\n",
      "\u001b[0;32m~/anaconda3/lib/python3.6/site-packages/selenium/webdriver/remote/webdriver.py\u001b[0m in \u001b[0;36mexecute\u001b[0;34m(self, driver_command, params)\u001b[0m\n\u001b[1;32m    310\u001b[0m         \u001b[0mresponse\u001b[0m \u001b[0;34m=\u001b[0m \u001b[0mself\u001b[0m\u001b[0;34m.\u001b[0m\u001b[0mcommand_executor\u001b[0m\u001b[0;34m.\u001b[0m\u001b[0mexecute\u001b[0m\u001b[0;34m(\u001b[0m\u001b[0mdriver_command\u001b[0m\u001b[0;34m,\u001b[0m \u001b[0mparams\u001b[0m\u001b[0;34m)\u001b[0m\u001b[0;34m\u001b[0m\u001b[0m\n\u001b[1;32m    311\u001b[0m         \u001b[0;32mif\u001b[0m \u001b[0mresponse\u001b[0m\u001b[0;34m:\u001b[0m\u001b[0;34m\u001b[0m\u001b[0m\n\u001b[0;32m--> 312\u001b[0;31m             \u001b[0mself\u001b[0m\u001b[0;34m.\u001b[0m\u001b[0merror_handler\u001b[0m\u001b[0;34m.\u001b[0m\u001b[0mcheck_response\u001b[0m\u001b[0;34m(\u001b[0m\u001b[0mresponse\u001b[0m\u001b[0;34m)\u001b[0m\u001b[0;34m\u001b[0m\u001b[0m\n\u001b[0m\u001b[1;32m    313\u001b[0m             response['value'] = self._unwrap_value(\n\u001b[1;32m    314\u001b[0m                 response.get('value', None))\n",
      "\u001b[0;32m~/anaconda3/lib/python3.6/site-packages/selenium/webdriver/remote/errorhandler.py\u001b[0m in \u001b[0;36mcheck_response\u001b[0;34m(self, response)\u001b[0m\n\u001b[1;32m    240\u001b[0m                 \u001b[0malert_text\u001b[0m \u001b[0;34m=\u001b[0m \u001b[0mvalue\u001b[0m\u001b[0;34m[\u001b[0m\u001b[0;34m'alert'\u001b[0m\u001b[0;34m]\u001b[0m\u001b[0;34m.\u001b[0m\u001b[0mget\u001b[0m\u001b[0;34m(\u001b[0m\u001b[0;34m'text'\u001b[0m\u001b[0;34m)\u001b[0m\u001b[0;34m\u001b[0m\u001b[0m\n\u001b[1;32m    241\u001b[0m             \u001b[0;32mraise\u001b[0m \u001b[0mexception_class\u001b[0m\u001b[0;34m(\u001b[0m\u001b[0mmessage\u001b[0m\u001b[0;34m,\u001b[0m \u001b[0mscreen\u001b[0m\u001b[0;34m,\u001b[0m \u001b[0mstacktrace\u001b[0m\u001b[0;34m,\u001b[0m \u001b[0malert_text\u001b[0m\u001b[0;34m)\u001b[0m\u001b[0;34m\u001b[0m\u001b[0m\n\u001b[0;32m--> 242\u001b[0;31m         \u001b[0;32mraise\u001b[0m \u001b[0mexception_class\u001b[0m\u001b[0;34m(\u001b[0m\u001b[0mmessage\u001b[0m\u001b[0;34m,\u001b[0m \u001b[0mscreen\u001b[0m\u001b[0;34m,\u001b[0m \u001b[0mstacktrace\u001b[0m\u001b[0;34m)\u001b[0m\u001b[0;34m\u001b[0m\u001b[0m\n\u001b[0m\u001b[1;32m    243\u001b[0m \u001b[0;34m\u001b[0m\u001b[0m\n\u001b[1;32m    244\u001b[0m     \u001b[0;32mdef\u001b[0m \u001b[0m_value_or_default\u001b[0m\u001b[0;34m(\u001b[0m\u001b[0mself\u001b[0m\u001b[0;34m,\u001b[0m \u001b[0mobj\u001b[0m\u001b[0;34m,\u001b[0m \u001b[0mkey\u001b[0m\u001b[0;34m,\u001b[0m \u001b[0mdefault\u001b[0m\u001b[0;34m)\u001b[0m\u001b[0;34m:\u001b[0m\u001b[0;34m\u001b[0m\u001b[0m\n",
      "\u001b[0;31mNoSuchElementException\u001b[0m: Message: no such element: Unable to locate element: {\"method\":\"class name\",\"selector\":\"ui\"}\n  (Session info: chrome=69.0.3497.100)\n  (Driver info: chromedriver=2.42.591059 (a3d9684d10d61aa0c45f6723b327283be1ebaad8),platform=Mac OS X 10.13.6 x86_64)\n"
     ]
    }
   ],
   "source": [
    "for hood in hoods[0:100]:\n",
    "    get_scores(hood)\n"
   ]
  },
  {
   "cell_type": "code",
   "execution_count": 146,
   "metadata": {},
   "outputs": [
    {
     "data": {
      "text/plain": [
       "defaultdict(str,\n",
       "            {'Renton': '',\n",
       "             'Kent': '',\n",
       "             'Federal_Way': '',\n",
       "             'Sammamish': '',\n",
       "             'West_Lake_Sammamish': '',\n",
       "             'Somerset': '',\n",
       "             'Bridle_Trails': '',\n",
       "             'Vashon': '',\n",
       "             'Green_Lake': '',\n",
       "             'Carnation': '',\n",
       "             'Auburn': '',\n",
       "             'Maple_Valley': ''})"
      ]
     },
     "execution_count": 146,
     "metadata": {},
     "output_type": "execute_result"
    }
   ],
   "source": [
    "list_of_walk_scores"
   ]
  },
  {
   "cell_type": "code",
   "execution_count": 75,
   "metadata": {},
   "outputs": [],
   "source": [
    "list_of_neighborhoods = pd.read_csv('neighborhood_csv.csv')"
   ]
  },
  {
   "cell_type": "code",
   "execution_count": 40,
   "metadata": {},
   "outputs": [],
   "source": [
    "from collections import defaultdict"
   ]
  },
  {
   "cell_type": "code",
   "execution_count": 87,
   "metadata": {},
   "outputs": [],
   "source": [
    "neighborhood_df = pd.DataFrame(neighborhoods_list)"
   ]
  },
  {
   "cell_type": "code",
   "execution_count": 84,
   "metadata": {},
   "outputs": [],
   "source": [
    "neighborhoods_list = neighborhood_df['Rainier Beach']"
   ]
  },
  {
   "cell_type": "code",
   "execution_count": null,
   "metadata": {},
   "outputs": [],
   "source": []
  },
  {
   "cell_type": "code",
   "execution_count": null,
   "metadata": {},
   "outputs": [],
   "source": []
  },
  {
   "cell_type": "code",
   "execution_count": null,
   "metadata": {},
   "outputs": [],
   "source": []
  },
  {
   "cell_type": "code",
   "execution_count": null,
   "metadata": {},
   "outputs": [],
   "source": []
  },
  {
   "cell_type": "code",
   "execution_count": 67,
   "metadata": {},
   "outputs": [],
   "source": [
    "neighborhoods_list = neighborhoods_list.apply(lambda x: x.replace(' ', '_'))"
   ]
  },
  {
   "cell_type": "code",
   "execution_count": 74,
   "metadata": {},
   "outputs": [],
   "source": [
    "def replace_space(x):\n",
    "    if ' ' in x:\n",
    "        return x.replace(' ', '_')\n",
    "    else:\n",
    "        return x"
   ]
  },
  {
   "cell_type": "code",
   "execution_count": 98,
   "metadata": {},
   "outputs": [],
   "source": [
    "neighborhoods_list = neighborhoods_list.apply(replace_space)"
   ]
  },
  {
   "cell_type": "code",
   "execution_count": 105,
   "metadata": {},
   "outputs": [],
   "source": [
    "new_2 = neighborhoods_list.values"
   ]
  },
  {
   "cell_type": "code",
   "execution_count": 108,
   "metadata": {},
   "outputs": [],
   "source": [
    "new_2 = pd.DataFrame(new_2)"
   ]
  },
  {
   "cell_type": "code",
   "execution_count": 118,
   "metadata": {},
   "outputs": [],
   "source": [
    "new_2['New'] = new_2.values"
   ]
  },
  {
   "cell_type": "code",
   "execution_count": 123,
   "metadata": {},
   "outputs": [],
   "source": [
    "hoods = new_2['New'].value_counts().index"
   ]
  },
  {
   "cell_type": "code",
   "execution_count": 28,
   "metadata": {},
   "outputs": [],
   "source": [
    "driver.get('https://www.walkscore.com/score/1112-4th-ave-seattle-wa-98101')"
   ]
  },
  {
   "cell_type": "code",
   "execution_count": 29,
   "metadata": {},
   "outputs": [],
   "source": [
    "# Personal Crime Grade\n",
    "new_path = '//*[@id=\"crime-grade\"]/div[2]/div[1]/div[1]/div[1]'\n",
    "elem = driver.find_element_by_xpath(new_path)\n",
    "elem.text"
   ]
  },
  {
   "cell_type": "code",
   "execution_count": 34,
   "metadata": {},
   "outputs": [
    {
     "data": {
      "text/plain": [
       "'A'"
      ]
     },
     "execution_count": 34,
     "metadata": {},
     "output_type": "execute_result"
    }
   ],
   "source": [
    "# Property Crime Grade\n",
    "new_path = '//*[@id=\"crime-grade\"]/div[2]/div[1]/div[2]/div[1]'\n",
    "elem = driver.find_element_by_xpath(new_path)\n",
    "elem.text"
   ]
  },
  {
   "cell_type": "code",
   "execution_count": null,
   "metadata": {},
   "outputs": [],
   "source": []
  },
  {
   "cell_type": "code",
   "execution_count": null,
   "metadata": {},
   "outputs": [],
   "source": []
  },
  {
   "cell_type": "code",
   "execution_count": null,
   "metadata": {},
   "outputs": [],
   "source": []
  },
  {
   "cell_type": "code",
   "execution_count": null,
   "metadata": {},
   "outputs": [],
   "source": []
  },
  {
   "cell_type": "code",
   "execution_count": 21,
   "metadata": {},
   "outputs": [
    {
     "ename": "NoSuchElementException",
     "evalue": "Message: no such element: Unable to locate element: {\"method\":\"id\",\"selector\":\"hood-list-table\"}\n  (Session info: chrome=69.0.3497.100)\n  (Driver info: chromedriver=2.42.591059 (a3d9684d10d61aa0c45f6723b327283be1ebaad8),platform=Mac OS X 10.13.6 x86_64)\n",
     "output_type": "error",
     "traceback": [
      "\u001b[0;31m---------------------------------------------------------------------------\u001b[0m",
      "\u001b[0;31mNoSuchElementException\u001b[0m                    Traceback (most recent call last)",
      "\u001b[0;32m<ipython-input-21-6fc5aa29a8c1>\u001b[0m in \u001b[0;36m<module>\u001b[0;34m()\u001b[0m\n\u001b[0;32m----> 1\u001b[0;31m \u001b[0mtable\u001b[0m \u001b[0;34m=\u001b[0m \u001b[0mdriver\u001b[0m\u001b[0;34m.\u001b[0m\u001b[0mfind_element_by_id\u001b[0m\u001b[0;34m(\u001b[0m\u001b[0;34m'hood-list-table'\u001b[0m\u001b[0;34m)\u001b[0m\u001b[0;34m\u001b[0m\u001b[0m\n\u001b[0m",
      "\u001b[0;32m~/anaconda3/lib/python3.6/site-packages/selenium/webdriver/remote/webdriver.py\u001b[0m in \u001b[0;36mfind_element_by_id\u001b[0;34m(self, id_)\u001b[0m\n\u001b[1;32m    349\u001b[0m             \u001b[0melement\u001b[0m \u001b[0;34m=\u001b[0m \u001b[0mdriver\u001b[0m\u001b[0;34m.\u001b[0m\u001b[0mfind_element_by_id\u001b[0m\u001b[0;34m(\u001b[0m\u001b[0;34m'foo'\u001b[0m\u001b[0;34m)\u001b[0m\u001b[0;34m\u001b[0m\u001b[0m\n\u001b[1;32m    350\u001b[0m         \"\"\"\n\u001b[0;32m--> 351\u001b[0;31m         \u001b[0;32mreturn\u001b[0m \u001b[0mself\u001b[0m\u001b[0;34m.\u001b[0m\u001b[0mfind_element\u001b[0m\u001b[0;34m(\u001b[0m\u001b[0mby\u001b[0m\u001b[0;34m=\u001b[0m\u001b[0mBy\u001b[0m\u001b[0;34m.\u001b[0m\u001b[0mID\u001b[0m\u001b[0;34m,\u001b[0m \u001b[0mvalue\u001b[0m\u001b[0;34m=\u001b[0m\u001b[0mid_\u001b[0m\u001b[0;34m)\u001b[0m\u001b[0;34m\u001b[0m\u001b[0m\n\u001b[0m\u001b[1;32m    352\u001b[0m \u001b[0;34m\u001b[0m\u001b[0m\n\u001b[1;32m    353\u001b[0m     \u001b[0;32mdef\u001b[0m \u001b[0mfind_elements_by_id\u001b[0m\u001b[0;34m(\u001b[0m\u001b[0mself\u001b[0m\u001b[0;34m,\u001b[0m \u001b[0mid_\u001b[0m\u001b[0;34m)\u001b[0m\u001b[0;34m:\u001b[0m\u001b[0;34m\u001b[0m\u001b[0m\n",
      "\u001b[0;32m~/anaconda3/lib/python3.6/site-packages/selenium/webdriver/remote/webdriver.py\u001b[0m in \u001b[0;36mfind_element\u001b[0;34m(self, by, value)\u001b[0m\n\u001b[1;32m    953\u001b[0m         return self.execute(Command.FIND_ELEMENT, {\n\u001b[1;32m    954\u001b[0m             \u001b[0;34m'using'\u001b[0m\u001b[0;34m:\u001b[0m \u001b[0mby\u001b[0m\u001b[0;34m,\u001b[0m\u001b[0;34m\u001b[0m\u001b[0m\n\u001b[0;32m--> 955\u001b[0;31m             'value': value})['value']\n\u001b[0m\u001b[1;32m    956\u001b[0m \u001b[0;34m\u001b[0m\u001b[0m\n\u001b[1;32m    957\u001b[0m     \u001b[0;32mdef\u001b[0m \u001b[0mfind_elements\u001b[0m\u001b[0;34m(\u001b[0m\u001b[0mself\u001b[0m\u001b[0;34m,\u001b[0m \u001b[0mby\u001b[0m\u001b[0;34m=\u001b[0m\u001b[0mBy\u001b[0m\u001b[0;34m.\u001b[0m\u001b[0mID\u001b[0m\u001b[0;34m,\u001b[0m \u001b[0mvalue\u001b[0m\u001b[0;34m=\u001b[0m\u001b[0;32mNone\u001b[0m\u001b[0;34m)\u001b[0m\u001b[0;34m:\u001b[0m\u001b[0;34m\u001b[0m\u001b[0m\n",
      "\u001b[0;32m~/anaconda3/lib/python3.6/site-packages/selenium/webdriver/remote/webdriver.py\u001b[0m in \u001b[0;36mexecute\u001b[0;34m(self, driver_command, params)\u001b[0m\n\u001b[1;32m    310\u001b[0m         \u001b[0mresponse\u001b[0m \u001b[0;34m=\u001b[0m \u001b[0mself\u001b[0m\u001b[0;34m.\u001b[0m\u001b[0mcommand_executor\u001b[0m\u001b[0;34m.\u001b[0m\u001b[0mexecute\u001b[0m\u001b[0;34m(\u001b[0m\u001b[0mdriver_command\u001b[0m\u001b[0;34m,\u001b[0m \u001b[0mparams\u001b[0m\u001b[0;34m)\u001b[0m\u001b[0;34m\u001b[0m\u001b[0m\n\u001b[1;32m    311\u001b[0m         \u001b[0;32mif\u001b[0m \u001b[0mresponse\u001b[0m\u001b[0;34m:\u001b[0m\u001b[0;34m\u001b[0m\u001b[0m\n\u001b[0;32m--> 312\u001b[0;31m             \u001b[0mself\u001b[0m\u001b[0;34m.\u001b[0m\u001b[0merror_handler\u001b[0m\u001b[0;34m.\u001b[0m\u001b[0mcheck_response\u001b[0m\u001b[0;34m(\u001b[0m\u001b[0mresponse\u001b[0m\u001b[0;34m)\u001b[0m\u001b[0;34m\u001b[0m\u001b[0m\n\u001b[0m\u001b[1;32m    313\u001b[0m             response['value'] = self._unwrap_value(\n\u001b[1;32m    314\u001b[0m                 response.get('value', None))\n",
      "\u001b[0;32m~/anaconda3/lib/python3.6/site-packages/selenium/webdriver/remote/errorhandler.py\u001b[0m in \u001b[0;36mcheck_response\u001b[0;34m(self, response)\u001b[0m\n\u001b[1;32m    240\u001b[0m                 \u001b[0malert_text\u001b[0m \u001b[0;34m=\u001b[0m \u001b[0mvalue\u001b[0m\u001b[0;34m[\u001b[0m\u001b[0;34m'alert'\u001b[0m\u001b[0;34m]\u001b[0m\u001b[0;34m.\u001b[0m\u001b[0mget\u001b[0m\u001b[0;34m(\u001b[0m\u001b[0;34m'text'\u001b[0m\u001b[0;34m)\u001b[0m\u001b[0;34m\u001b[0m\u001b[0m\n\u001b[1;32m    241\u001b[0m             \u001b[0;32mraise\u001b[0m \u001b[0mexception_class\u001b[0m\u001b[0;34m(\u001b[0m\u001b[0mmessage\u001b[0m\u001b[0;34m,\u001b[0m \u001b[0mscreen\u001b[0m\u001b[0;34m,\u001b[0m \u001b[0mstacktrace\u001b[0m\u001b[0;34m,\u001b[0m \u001b[0malert_text\u001b[0m\u001b[0;34m)\u001b[0m\u001b[0;34m\u001b[0m\u001b[0m\n\u001b[0;32m--> 242\u001b[0;31m         \u001b[0;32mraise\u001b[0m \u001b[0mexception_class\u001b[0m\u001b[0;34m(\u001b[0m\u001b[0mmessage\u001b[0m\u001b[0;34m,\u001b[0m \u001b[0mscreen\u001b[0m\u001b[0;34m,\u001b[0m \u001b[0mstacktrace\u001b[0m\u001b[0;34m)\u001b[0m\u001b[0;34m\u001b[0m\u001b[0m\n\u001b[0m\u001b[1;32m    243\u001b[0m \u001b[0;34m\u001b[0m\u001b[0m\n\u001b[1;32m    244\u001b[0m     \u001b[0;32mdef\u001b[0m \u001b[0m_value_or_default\u001b[0m\u001b[0;34m(\u001b[0m\u001b[0mself\u001b[0m\u001b[0;34m,\u001b[0m \u001b[0mobj\u001b[0m\u001b[0;34m,\u001b[0m \u001b[0mkey\u001b[0m\u001b[0;34m,\u001b[0m \u001b[0mdefault\u001b[0m\u001b[0;34m)\u001b[0m\u001b[0;34m:\u001b[0m\u001b[0;34m\u001b[0m\u001b[0m\n",
      "\u001b[0;31mNoSuchElementException\u001b[0m: Message: no such element: Unable to locate element: {\"method\":\"id\",\"selector\":\"hood-list-table\"}\n  (Session info: chrome=69.0.3497.100)\n  (Driver info: chromedriver=2.42.591059 (a3d9684d10d61aa0c45f6723b327283be1ebaad8),platform=Mac OS X 10.13.6 x86_64)\n"
     ]
    }
   ],
   "source": [
    "table = driver.find_element_by_id('hood-list-table')"
   ]
  },
  {
   "cell_type": "code",
   "execution_count": 69,
   "metadata": {
    "scrolled": true
   },
   "outputs": [
    {
     "data": {
      "text/plain": [
       "'Rank\\nName\\nWalk Score\\nTransit Score\\nBike Score\\nPopulation\\n9\\nCapitol Hill\\n91 80 85 29,310\\n10\\nUniversity District\\n91 77 85 26,712\\n11\\nCentral District\\n88 72 90 12,874\\n12\\nBallard\\n87 53 90 17,010\\n13\\nGreenwood\\n85 54 79 16,190'"
      ]
     },
     "execution_count": 69,
     "metadata": {},
     "output_type": "execute_result"
    }
   ],
   "source": [
    "table_text = table.text\n",
    "table.text"
   ]
  },
  {
   "cell_type": "code",
   "execution_count": 78,
   "metadata": {},
   "outputs": [
    {
     "data": {
      "text/plain": [
       "['Rank',\n",
       " 'Name',\n",
       " 'Walk Score',\n",
       " 'Transit Score',\n",
       " 'Bike Score',\n",
       " 'Population',\n",
       " '9',\n",
       " 'Capitol Hill',\n",
       " '91 80 85 29,310',\n",
       " '10',\n",
       " 'University District',\n",
       " '91 77 85 26,712',\n",
       " '11',\n",
       " 'Central District',\n",
       " '88 72 90 12,874',\n",
       " '12',\n",
       " 'Ballard',\n",
       " '87 53 90 17,010',\n",
       " '13',\n",
       " 'Greenwood',\n",
       " '85 54 79 16,190']"
      ]
     },
     "execution_count": 78,
     "metadata": {},
     "output_type": "execute_result"
    }
   ],
   "source": [
    "table_text = table_text.split('\\n')\n",
    "table_text"
   ]
  },
  {
   "cell_type": "code",
   "execution_count": 85,
   "metadata": {},
   "outputs": [
    {
     "name": "stdout",
     "output_type": "stream",
     "text": [
      "Capitol Hill 91 80 85 29,310\n",
      "University District 91 77 85 26,712\n"
     ]
    }
   ],
   "source": [
    "print(table_text[7], table_text[8])\n",
    "print(table_text[10], table_text[11])"
   ]
  },
  {
   "cell_type": "code",
   "execution_count": 73,
   "metadata": {},
   "outputs": [
    {
     "data": {
      "text/plain": [
       "'Rank\\nName\\nWalk Score\\nTransit Score\\nBike Score\\nPopulation\\n9\\nCapitol Hill\\n91 80 85 29,310\\n10\\nUniversity District\\n91 77 85 26,712\\n11\\nCentral District\\n88 72 90 12,874\\n12\\nBallard\\n87 53 90 17,010\\n13\\nGreenwood\\n85 54 79 16,190'"
      ]
     },
     "execution_count": 73,
     "metadata": {},
     "output_type": "execute_result"
    }
   ],
   "source": [
    "table_text"
   ]
  },
  {
   "cell_type": "code",
   "execution_count": 328,
   "metadata": {},
   "outputs": [],
   "source": [
    "url = 'https://www.walkscore.com/score/1420-12th-ave-seattle-wa-98122'\n",
    "driver = webdriver.Chrome(chromedriver)\n",
    "driver.get(url)"
   ]
  },
  {
   "cell_type": "code",
   "execution_count": null,
   "metadata": {},
   "outputs": [],
   "source": []
  },
  {
   "cell_type": "code",
   "execution_count": null,
   "metadata": {},
   "outputs": [],
   "source": []
  },
  {
   "cell_type": "code",
   "execution_count": 406,
   "metadata": {},
   "outputs": [],
   "source": [
    "soup=BeautifulSoup(requests.get('https://www.walkscore.com/score/1436-19th-ave-seattle-wa-98122').text, \"html5lib\")"
   ]
  },
  {
   "cell_type": "code",
   "execution_count": 407,
   "metadata": {},
   "outputs": [],
   "source": [
    "x = soup.find_all('img')"
   ]
  },
  {
   "cell_type": "code",
   "execution_count": 373,
   "metadata": {},
   "outputs": [
    {
     "data": {
      "text/plain": [
       "72"
      ]
     },
     "execution_count": 373,
     "metadata": {},
     "output_type": "execute_result"
    }
   ],
   "source": [
    "len(x)"
   ]
  },
  {
   "cell_type": "code",
   "execution_count": 374,
   "metadata": {},
   "outputs": [],
   "source": [
    "# x_2 =pd.DataFrame(x)"
   ]
  },
  {
   "cell_type": "code",
   "execution_count": 417,
   "metadata": {},
   "outputs": [
    {
     "name": "stdout",
     "output_type": "stream",
     "text": [
      "//pp.walk.sc/badge/walk/score/88.svg\n",
      "//pp.walk.sc/badge/transit/score/72.svg\n",
      "//pp.walk.sc/badge/bike/score/76.svg\n",
      "//pp.walk.sc/badge/transit/score/72.svg\n"
     ]
    }
   ],
   "source": [
    "for each in x:\n",
    "#     if \"Walk Score of\" in str(each):\n",
    "#         print(str(each)[-9:-7])\n",
    "#     if \"Transit Score of\" in str(each):\n",
    "#         print(str(each)[-9:-7])\n",
    "#     if \"Bike Score of\" in str(each):\n",
    "#         print(str(each)[-9:-7])\n",
    "    if \"Score of\" in str(each):\n",
    "        print(each['src'])"
   ]
  },
  {
   "cell_type": "code",
   "execution_count": 321,
   "metadata": {},
   "outputs": [],
   "source": [
    "y = soup.find_all('class')"
   ]
  },
  {
   "cell_type": "code",
   "execution_count": 322,
   "metadata": {},
   "outputs": [],
   "source": [
    "for each in y:\n",
    "    print(each)"
   ]
  },
  {
   "cell_type": "code",
   "execution_count": 323,
   "metadata": {},
   "outputs": [
    {
     "data": {
      "text/plain": [
       "0"
      ]
     },
     "execution_count": 323,
     "metadata": {},
     "output_type": "execute_result"
    }
   ],
   "source": [
    "len(y)"
   ]
  },
  {
   "cell_type": "code",
   "execution_count": 408,
   "metadata": {},
   "outputs": [],
   "source": [
    "# Parsing HTML to get the Personal Crime & Property Crime Grades from WalkScore\n",
    "results = soup.find_all(\"div\", {\"class\" : \"crime-grade\"})"
   ]
  },
  {
   "cell_type": "code",
   "execution_count": 413,
   "metadata": {},
   "outputs": [],
   "source": [
    "# Get Crime grades - **WORKING**\n",
    "parsed_grades = []\n",
    "for grade in results:\n",
    "    parsed_grades.append(grade.text)\n",
    "    \n",
    "personal_crime_grade = parsed_grades[0][2]\n",
    "property_crime_grade = parsed_grades[1][2]"
   ]
  },
  {
   "cell_type": "code",
   "execution_count": null,
   "metadata": {},
   "outputs": [],
   "source": []
  },
  {
   "cell_type": "code",
   "execution_count": 517,
   "metadata": {},
   "outputs": [],
   "source": [
    "walk_scores = defaultdict(str)\n",
    "transit_scores = defaultdict(str)\n",
    "bike_scores = defaultdict(str)"
   ]
  },
  {
   "cell_type": "code",
   "execution_count": 507,
   "metadata": {},
   "outputs": [],
   "source": [
    "personal_crime_scores = defaultdict(str)\n",
    "property_crime_scores = defaultdict(str)"
   ]
  },
  {
   "cell_type": "code",
   "execution_count": 530,
   "metadata": {},
   "outputs": [],
   "source": [
    "# Must have started a Webdriver/Selenium session\n",
    "\n",
    "def get_walk_scores(addresses):\n",
    "    for address in addresses:\n",
    "        \n",
    "#         # Convert to URL-ready address\n",
    "#         new = address.lower().replace(\",\", \"\")\n",
    "#         new = new.replace(\" \", \"-\")\n",
    "        \n",
    "        # Sleep a bit\n",
    "        time.sleep(3 + np.random.randn(1))\n",
    "        print(f'Sleeping.')\n",
    "        \n",
    "#         # Fetch the URL\n",
    "#         driver.get(f'https://www.walkscore.com/score/{new}')\n",
    "        \n",
    "        # Use search bar to get our next page\n",
    "        input_element = driver.find_element_by_id('addrbar-street')\n",
    "        input_element.click()\n",
    "        input_element.send_keys(address)\n",
    "        input_element.send_keys(Keys.ENTER)\n",
    "              \n",
    "        html = driver.page_source\n",
    "        soup=BeautifulSoup(html)\n",
    "\n",
    "        # Getting Walk, Transit, and Bike Scores\n",
    "        x = soup.find_all('img')\n",
    "        \n",
    "        try:\n",
    "            for score in x:\n",
    "                if \"Score of\" in str(score):\n",
    "                    z = score['src']\n",
    "                    if 'walk/' in z:\n",
    "                        walk_scores[address] = z[-6:-4]\n",
    "                    if 'transit/' in z:\n",
    "                        transit_scores[address] = z[-6:-4]\n",
    "                    if 'bike/' in z:\n",
    "                        bike_scores[address] = z[-6:-4]\n",
    "\n",
    "            # Getting Personal & Property Crime Grades\n",
    "            results = soup.find_all(\"div\", {\"class\" : \"crime-grade\"})\n",
    "            parsed_grades = []\n",
    "        except:\n",
    "            print('Error 1')\n",
    "\n",
    "        try:\n",
    "            for grade in results:\n",
    "                parsed_grades.append(grade.text)\n",
    "\n",
    "            personal_crime_scores[address] = parsed_grades[0][2]\n",
    "            property_crime_scores[address] = parsed_grades[1][2]\n",
    "        except:\n",
    "            print('Error 2')\n"
   ]
  },
  {
   "cell_type": "code",
   "execution_count": 501,
   "metadata": {},
   "outputs": [],
   "source": [
    "homes = ['6930 Elderberry Ave SE, Snoqualmie, WA 98065, USA',\n",
    "       '3656 36th Ave S, Seattle, WA 98144, USA',\n",
    "       '3943 NE 24th Ct, Renton, WA 98056, USA',\n",
    "       '5426 Beach Dr SW, Seattle, WA 98136, USA',\n",
    "       '3012 60th Ave SW, Seattle, WA 98116, USA',\n",
    "       '929 N 97th St, Seattle, WA 98103, USA',\n",
    "       '2245 SW 104th St, Seattle, WA 98146, USA',\n",
    "       '902 26th Ave S, Seattle, WA 98144, USA',\n",
    "       '2157 NW Boulder Way Dr, Issaquah, WA 98027, USA',\n",
    "       '916 26th Ave S, Seattle, WA 98144, USA']"
   ]
  },
  {
   "cell_type": "code",
   "execution_count": 531,
   "metadata": {},
   "outputs": [],
   "source": [
    "homes = ['2202 S 300th St, Federal Way, WA 98003, USA',\n",
    "       '10037 Interlake Ave N, Seattle, WA 98133, USA',\n",
    "       '8134 SE 83rd St, Mercer Island, WA 98040, USA',\n",
    "       '12813 SE 307th Pl, Auburn, WA 98092, USA']"
   ]
  },
  {
   "cell_type": "code",
   "execution_count": 532,
   "metadata": {},
   "outputs": [
    {
     "name": "stdout",
     "output_type": "stream",
     "text": [
      "Sleeping.\n",
      "Sleeping.\n",
      "Error 2\n",
      "Sleeping.\n",
      "Sleeping.\n",
      "Error 2\n"
     ]
    }
   ],
   "source": [
    "driver = webdriver.Chrome(chromedriver)\n",
    "driver.get(f'https://www.walkscore.com/score/1422-18th-ave-seattle-wa-98122')\n",
    "\n",
    "get_walk_scores(homes)"
   ]
  },
  {
   "cell_type": "code",
   "execution_count": 535,
   "metadata": {},
   "outputs": [
    {
     "data": {
      "text/plain": [
       "defaultdict(str,\n",
       "            {'2202 S 300th St, Federal Way, WA 98003, USA': '79',\n",
       "             '8134 SE 83rd St, Mercer Island, WA 98040, USA': '67'})"
      ]
     },
     "execution_count": 535,
     "metadata": {},
     "output_type": "execute_result"
    }
   ],
   "source": [
    "bike_scores"
   ]
  },
  {
   "cell_type": "code",
   "execution_count": 500,
   "metadata": {},
   "outputs": [],
   "source": [
    "# driver = webdriver.Chrome(chromedriver)\n",
    "# driver.get(f'https://www.walkscore.com/score/1436-19th-ave-seattle-wa-98122')\n",
    "\n",
    "# inputElement = driver.find_element_by_id('addrbar-street')\n",
    "# inputElement.click()\n",
    "# inputElement.send_keys('719 Virginia St, Seattle WA')\n",
    "# inputElement.send_keys(Keys.ENTER)"
   ]
  },
  {
   "cell_type": "code",
   "execution_count": null,
   "metadata": {},
   "outputs": [],
   "source": []
  },
  {
   "cell_type": "code",
   "execution_count": 512,
   "metadata": {},
   "outputs": [
    {
     "data": {
      "text/plain": [
       "defaultdict(str,\n",
       "            {'6930 Elderberry Ave SE, Snoqualmie, WA 98065, USA': 'C',\n",
       "             '3656 36th Ave S, Seattle, WA 98144, USA': 'C',\n",
       "             '3943 NE 24th Ct, Renton, WA 98056, USA': 'C',\n",
       "             '929 N 97th St, Seattle, WA 98103, USA': 'C',\n",
       "             '2245 SW 104th St, Seattle, WA 98146, USA': 'B',\n",
       "             '2157 NW Boulder Way Dr, Issaquah, WA 98027, USA': 'C'})"
      ]
     },
     "execution_count": 512,
     "metadata": {},
     "output_type": "execute_result"
    }
   ],
   "source": [
    "personal_crime_scores"
   ]
  },
  {
   "cell_type": "code",
   "execution_count": 513,
   "metadata": {},
   "outputs": [
    {
     "data": {
      "text/plain": [
       "defaultdict(str,\n",
       "            {'6930 Elderberry Ave SE, Snoqualmie, WA 98065, USA': 'C',\n",
       "             '3656 36th Ave S, Seattle, WA 98144, USA': 'B',\n",
       "             '3943 NE 24th Ct, Renton, WA 98056, USA': 'D',\n",
       "             '929 N 97th St, Seattle, WA 98103, USA': 'B',\n",
       "             '2245 SW 104th St, Seattle, WA 98146, USA': 'C',\n",
       "             '2157 NW Boulder Way Dr, Issaquah, WA 98027, USA': 'B'})"
      ]
     },
     "execution_count": 513,
     "metadata": {},
     "output_type": "execute_result"
    }
   ],
   "source": [
    "property_crime_scores"
   ]
  },
  {
   "cell_type": "code",
   "execution_count": 485,
   "metadata": {},
   "outputs": [
    {
     "data": {
      "text/plain": [
       "array([2.94468208])"
      ]
     },
     "execution_count": 485,
     "metadata": {},
     "output_type": "execute_result"
    }
   ],
   "source": [
    "sleep_time = 3 + np.random.randn(1)\n",
    "sleep_time"
   ]
  },
  {
   "cell_type": "code",
   "execution_count": 486,
   "metadata": {},
   "outputs": [
    {
     "data": {
      "text/plain": [
       "array([2.94468208])"
      ]
     },
     "execution_count": 486,
     "metadata": {},
     "output_type": "execute_result"
    }
   ],
   "source": [
    "sleep_time"
   ]
  },
  {
   "cell_type": "code",
   "execution_count": 514,
   "metadata": {},
   "outputs": [
    {
     "data": {
      "text/plain": [
       "[<img alt=\"Walk Score Logo\" height=\"33\" src=\"https://pp.walk.sc/_/s/_i/images/walk-score-2-sm.png\" width=\"191\"/>,\n",
       " <img id=\"default-login-head\" src=\"https://pp.walk.sc/_/s/_i/images/search/login-head.png\" width=\"30\"/>,\n",
       " <img alt=\"Login default user image\" id=\"login-head\" src=\"https://pp.walk.sc/_/s/_i/images/search/login-head.png\"/>,\n",
       " <img alt=\"Walk Score of 1436 19th Avenue Seattle WA 98122\" src=\"//pp.walk.sc/badge/walk/score/88.svg\"/>,\n",
       " <img alt=\"Transit Score of 1436 19th Avenue Seattle WA 98122\" src=\"//pp.walk.sc/badge/transit/score/72.svg\"/>,\n",
       " <img alt=\"Bike Score of 1436 19th Avenue Seattle WA 98122\" src=\"//pp.walk.sc/badge/bike/score/76.svg\"/>,\n",
       " <img alt=\"map of restaurants, bars, coffee shops, grocery stores, and more near 1436 19th Avenue in Seattle\" class=\"clippy-inner address-header-static-tile\" src=\"//pp.walk.sc/tile/e/0/748x600/loc/lat=47.6140509/lng=-122.3073215.png\" width=\"374\"/>,\n",
       " <img alt=\"map of restaurants, bars, coffee shops, grocery stores, and more near 1436 19th Avenue in Seattle\" class=\"clippy-inner address-header-static-tile\" src=\"//pp.walk.sc/tile/e/0/748x600/loc/lat=47.6140509/lng=-122.3073215.png\" width=\"374\"/>,\n",
       " <img alt=\"Transit Score of 1436 19th Avenue Seattle WA 98122\" src=\"//pp.walk.sc/badge/transit/score/72.svg\"/>,\n",
       " <img alt=\"Rental info for Vox in the Central District area\" class=\"invisible\" data-imgsrc=\"https://pp.walk.sc/t225/p/158757179/eee290.jpg\" src=\"https://pp.walk.sc/_/s/_i/images/smalltrans.png\" width=\"225\"/>,\n",
       " <img alt=\"Rental info for The Pearl in the Central District area\" class=\"invisible\" data-imgsrc=\"https://pp3.walk.sc/t225/p/146742912/f22a6e.jpg\" src=\"https://pp.walk.sc/_/s/_i/images/smalltrans.png\" width=\"225\"/>,\n",
       " <img alt=\"Rental info for Collins on Pine in the Central District area\" class=\"invisible\" data-imgsrc=\"https://pp3.walk.sc/t225/p/161992987/88f803.jpg\" src=\"https://pp.walk.sc/_/s/_i/images/smalltrans.png\" width=\"225\"/>,\n",
       " <img alt=\"Rental info for Chloe in the Central District area\" class=\"invisible\" data-imgsrc=\"https://pp2.walk.sc/t225/p/157896039/5f2489.jpg\" src=\"https://pp.walk.sc/_/s/_i/images/smalltrans.png\" width=\"225\"/>,\n",
       " <img alt=\"Rental info for Packard Building in the Central District area\" class=\"invisible\" data-imgsrc=\"https://pp2.walk.sc/t225/p/132796216/f74166.jpg\" src=\"https://pp.walk.sc/_/s/_i/images/smalltrans.png\" width=\"225\"/>,\n",
       " <img alt=\"Rental info for East Union in the Central District area\" class=\"invisible\" data-imgsrc=\"https://pp3.walk.sc/t225/p/161837859/365d0b.jpg\" src=\"https://pp.walk.sc/_/s/_i/images/smalltrans.png\" width=\"225\"/>,\n",
       " <img alt=\"Rental info for Lawrence Lofts in the Central District area\" class=\"invisible\" data-imgsrc=\"https://pp.walk.sc/t225/p/161485234/0a63bf.jpg\" src=\"https://pp.walk.sc/_/s/_i/images/smalltrans.png\" width=\"225\"/>,\n",
       " <img alt=\"Rental info for Stencil in the Central District area\" class=\"invisible\" data-imgsrc=\"https://pp2.walk.sc/t225/p/154102416/c632af.jpg\" src=\"https://pp.walk.sc/_/s/_i/images/smalltrans.png\" width=\"225\"/>,\n",
       " <img alt=\"Rental info for Union 18 in the Central District area\" class=\"invisible\" data-imgsrc=\"https://pp2.walk.sc/t225/p/147557746/8dbb5a.jpg\" src=\"https://pp.walk.sc/_/s/_i/images/smalltrans.png\" width=\"225\"/>,\n",
       " <img alt=\"Photo of Fire Hydrant in Central District, Seattle\" class=\"invisible\" data-imgsrc=\"https://pp.walk.sc/t460/production/84495_fire_hydrant_seattle.jpg\" height=\"460\" src=\"https://pp.walk.sc/_/s/_i/images/smalltrans.png\" width=\"460\"/>,\n",
       " <img alt=\"Photo of Seattle Acad Of Arts &amp; Sciences Middle Sch Campus in Central District, Seattle\" class=\"invisible\" data-imgsrc=\"https://pp2.walk.sc/t342/production/79925_seattle_acad_of_arts_sciences_middle_sch_campus_se.jpg\" height=\"342\" src=\"https://pp.walk.sc/_/s/_i/images/smalltrans.png\" width=\"342\"/>,\n",
       " <img alt=\"Photo of Mural at 23rd &amp; Union in Central District, Seattle\" class=\"invisible\" data-imgsrc=\"https://pp3.walk.sc/t342/production/1225_mural_at_rd_union_seattle.jpg\" height=\"342\" src=\"https://pp.walk.sc/_/s/_i/images/smalltrans.png\" width=\"342\"/>,\n",
       " <img alt=\"Rental info for Emerald Ridge\" src=\"https://pp.walk.sc/t225/p/158391189/443f03.jpg\"/>,\n",
       " <img alt=\"Rental info for Venn at Main\" src=\"https://pp3.walk.sc/t225/p/153507039/6a6f85.jpg\"/>,\n",
       " <img alt=\"Rental info for Helios\" src=\"https://pp.walk.sc/t225/p/150075942/c13b88.jpg\"/>,\n",
       " <img alt=\"Rental info for Avalon Kirkland\" src=\"https://pp.walk.sc/t225/p/152557639/de51f6.jpg\"/>,\n",
       " <img alt=\"Rental info for AVA Capitol Hill\" data-sidebar-imgsrc=\"https://pp2.walk.sc/t225/p/152557542/00f216.jpg\"/>,\n",
       " <img alt=\"Rental info for Woodland Commons\" data-sidebar-imgsrc=\"https://pp2.walk.sc/t225/p/158391355/660cac.jpg\"/>,\n",
       " <img alt=\"Rental info for The Audrey at Belltown\" data-sidebar-imgsrc=\"https://pp2.walk.sc/t225/p/160016700/d5ac9e.jpg\"/>,\n",
       " <img alt=\"Rental info for Dexter Lake Union\" data-sidebar-imgsrc=\"https://pp.walk.sc/t225/p/162004490/1d5c7e.jpg\"/>,\n",
       " <img alt=\"Rental info for AMLI at Bellevue Park\" data-sidebar-imgsrc=\"https://pp.walk.sc/t225/p/160125939/f18980.jpg\"/>,\n",
       " <img alt=\"Rental info for AMLI South Lake Union\" data-sidebar-imgsrc=\"https://pp2.walk.sc/t225/p/162055788/7d512f.jpg\"/>,\n",
       " <img alt=\"Rental info for Metro on First\" data-sidebar-imgsrc=\"https://pp3.walk.sc/t225/p/10507/34841a.jpg\"/>,\n",
       " <img alt=\"Rental info for 8th + Republican\" data-sidebar-imgsrc=\"https://pp2.walk.sc/t225/p/158391120/e44dc8.jpg\"/>,\n",
       " <img alt=\"Rental info for Seventh and James\" data-sidebar-imgsrc=\"https://pp.walk.sc/t225/p/10253/92174a.jpg\"/>,\n",
       " <img alt=\"Rental info for Rianna\" data-sidebar-imgsrc=\"https://pp3.walk.sc/t225/p/10759/2ffc60.jpg\"/>,\n",
       " <img alt=\"Rental info for AMLI 535\" data-sidebar-imgsrc=\"https://pp2.walk.sc/t225/p/140075788/610d1e.jpg\"/>,\n",
       " <img alt=\"Rental info for Annaliese\" data-sidebar-imgsrc=\"https://pp3.walk.sc/t225/p/158391127/758095.jpg\"/>,\n",
       " <img alt=\"Rental info for Canvas Apartments\" data-sidebar-imgsrc=\"https://pp3.walk.sc/t225/p/147537975/7d519f.jpg\"/>,\n",
       " <img alt=\"Rental info for Axis\" data-sidebar-imgsrc=\"https://pp2.walk.sc/t225/p/159124355/d567d7.jpg\"/>,\n",
       " <img alt=\"Rental info for Collins on Pine\" data-sidebar-imgsrc=\"https://pp3.walk.sc/t225/p/161992987/88f803.jpg\"/>,\n",
       " <img alt=\"Rental info for Expo\" data-sidebar-imgsrc=\"https://pp3.walk.sc/t225/p/161607560/5a58f3.jpg\"/>,\n",
       " <img alt=\"Rental info for Harbor Steps\" data-sidebar-imgsrc=\"https://pp2.walk.sc/t225/p/10510/fc555f.jpg\"/>,\n",
       " <img alt=\"Rental info for Springline\" data-sidebar-imgsrc=\"https://pp2.walk.sc/t225/p/149923934/1b2d68.jpg\"/>,\n",
       " <img alt=\"Rental info for The Heights on Capitol Hill\" data-sidebar-imgsrc=\"https://pp2.walk.sc/t225/p/10604/5221aa.jpg\"/>,\n",
       " <img alt=\"Rental info for Ellington at Bellevue\" data-sidebar-imgsrc=\"https://pp.walk.sc/t225/p/159143372/2d4480.jpg\"/>,\n",
       " <img alt=\"Rental info for East Union\" data-sidebar-imgsrc=\"https://pp3.walk.sc/t225/p/161837859/365d0b.jpg\"/>,\n",
       " <img alt=\"Rental info for City Square Bellevue\" data-sidebar-imgsrc=\"https://pp.walk.sc/t225/p/46591824/3d1f99.jpg\"/>,\n",
       " <img alt=\"Rental info for Surrey Downs\" data-sidebar-imgsrc=\"https://pp3.walk.sc/t225/p/10293/c0f0c7.jpg\"/>,\n",
       " <img alt=\"Rental info for The Flats at Interbay\" data-sidebar-imgsrc=\"https://pp3.walk.sc/t225/p/159386970/6075e6.jpg\"/>,\n",
       " <img alt=\"Rental info for Verse Seattle\" data-sidebar-imgsrc=\"https://pp2.walk.sc/t225/p/161753924/8bd4ca.jpg\"/>,\n",
       " <img alt=\"Rental info for Sofi at Somerset\" data-sidebar-imgsrc=\"https://pp3.walk.sc/t225/p/160062505/a5e2d2.jpg\"/>,\n",
       " <img alt=\"Rental info for The Bernard\" data-sidebar-imgsrc=\"https://pp2.walk.sc/t225/p/158391309/0a97ff.jpg\"/>,\n",
       " <img alt=\"Rental info for Avalon Meydenbauer\" data-sidebar-imgsrc=\"https://pp.walk.sc/t225/p/152885743/2e8c37.jpg\"/>,\n",
       " <img alt=\"Rental info for Vox\" data-sidebar-imgsrc=\"https://pp.walk.sc/t225/p/158757179/eee290.jpg\"/>,\n",
       " <img alt=\"Rental info for Foothill Commons\" data-sidebar-imgsrc=\"https://pp2.walk.sc/t225/p/160745421/3d4fa0.jpg\"/>,\n",
       " <img alt=\"Rental info for Chloe\" data-sidebar-imgsrc=\"https://pp2.walk.sc/t225/p/157896039/5f2489.jpg\"/>,\n",
       " <img alt=\"Rental info for Park Highland\" data-sidebar-imgsrc=\"https://pp3.walk.sc/t225/p/161392624/76a5b4.jpg\"/>,\n",
       " <img alt=\"Rental info for Aspira Apartments\" data-sidebar-imgsrc=\"https://pp.walk.sc/t225/p/153451904/f681ee.jpg\"/>,\n",
       " <img alt=\"Rental info for Astro Apartments\" data-sidebar-imgsrc=\"https://pp.walk.sc/t225/p/148213566/7641b7.jpg\"/>,\n",
       " <img alt=\"Rental info for Packard Building\" data-sidebar-imgsrc=\"https://pp2.walk.sc/t225/p/132796216/f74166.jpg\"/>,\n",
       " <img alt=\"Rental info for Domaine\" data-sidebar-imgsrc=\"https://pp.walk.sc/t225/p/161992988/d82163.jpg\"/>,\n",
       " <img alt=\"Rental info for Collage\" data-sidebar-imgsrc=\"https://pp.walk.sc/t225/p/152204980/9ab8e8.jpg\"/>,\n",
       " <img alt=\"Rental info for Cielo\" data-sidebar-imgsrc=\"https://pp3.walk.sc/t225/p/155773430/e280b4.jpg\"/>,\n",
       " <img alt=\"Rental info for The Pearl\" data-sidebar-imgsrc=\"https://pp3.walk.sc/t225/p/146742912/f22a6e.jpg\"/>,\n",
       " <img alt=\"Rental info for Uwajimaya Village\" data-sidebar-imgsrc=\"https://pp2.walk.sc/t225/p/10550/054479.jpg\"/>,\n",
       " <img alt=\"Rental info for Belcarra\" data-sidebar-imgsrc=\"https://pp.walk.sc/t225/p/159603760/d49e9b.jpg\"/>,\n",
       " <img alt=\"Rental info for Tower 12 Apartment Homes\" data-sidebar-imgsrc=\"https://pp3.walk.sc/t225/p/158362760/e25250.jpg\"/>,\n",
       " <img alt=\"Rental info for Patent 523\" data-sidebar-imgsrc=\"https://pp2.walk.sc/t225/p/158391224/d6f903.jpg\"/>,\n",
       " <img alt=\"Rental info for 2900 on First Apartments\" data-sidebar-imgsrc=\"https://pp.walk.sc/t225/p/133332262/90b761.jpg\"/>,\n",
       " <img alt=\"Rental info for The Cairns\" data-sidebar-imgsrc=\"https://pp3.walk.sc/t225/p/158391310/e495ad.jpg\"/>,\n",
       " <img alt=\"Rental info for AVA Belltown\" data-sidebar-imgsrc=\"https://pp2.walk.sc/t225/p/152557540/87f70a.jpg\"/>,\n",
       " <img src=\"http://b.scorecardresearch.com/p?c1=2&amp;c2=15053602&amp;cv=2.0&amp;cj=1\"/>]"
      ]
     },
     "execution_count": 514,
     "metadata": {},
     "output_type": "execute_result"
    }
   ],
   "source": [
    "x"
   ]
  },
  {
   "cell_type": "code",
   "execution_count": 524,
   "metadata": {},
   "outputs": [
    {
     "name": "stdout",
     "output_type": "stream",
     "text": [
      "88\n",
      "72\n",
      "76\n",
      "72\n"
     ]
    }
   ],
   "source": [
    "for score in x:\n",
    "    if \"Score of\" in str(score):\n",
    "        z = score['src']\n",
    "        if 'walk/' in z:\n",
    "            walk_scores[address] = z[-6:-4]\n",
    "        if 'transit/' in z:\n",
    "            transit_scores[address] = z[-6:-4]\n",
    "        if 'bike/' in z:\n",
    "            bike_scores[address] = z[-6:-4]\n",
    "            "
   ]
  },
  {
   "cell_type": "code",
   "execution_count": null,
   "metadata": {},
   "outputs": [],
   "source": []
  }
 ],
 "metadata": {
  "kernelspec": {
   "display_name": "Python 3",
   "language": "python",
   "name": "python3"
  },
  "language_info": {
   "codemirror_mode": {
    "name": "ipython",
    "version": 3
   },
   "file_extension": ".py",
   "mimetype": "text/x-python",
   "name": "python",
   "nbconvert_exporter": "python",
   "pygments_lexer": "ipython3",
   "version": "3.6.6"
  }
 },
 "nbformat": 4,
 "nbformat_minor": 2
}
