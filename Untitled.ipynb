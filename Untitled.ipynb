{
 "cells": [
  {
   "cell_type": "code",
   "execution_count": 112,
   "metadata": {},
   "outputs": [],
   "source": [
    "import pandas as pd\n",
    "import numpy as np\n",
    "import datetime as dt\n",
    "import seaborn as sns\n",
    "import matplotlib.pyplot as plt\n",
    "\n",
    "from sklearn.linear_model import LinearRegression\n",
    "from sklearn.model_selection import train_test_split\n",
    "from sklearn.linear_model import RidgeCV\n",
    "from sklearn.pipeline import make_pipeline\n",
    "from sklearn.preprocessing import PolynomialFeatures\n",
    "from sklearn.model_selection import KFold\n",
    "from sklearn.preprocessing import StandardScaler\n",
    "from sklearn.linear_model import RidgeCV\n",
    "from sklearn.metrics import mean_squared_error\n",
    "from sklearn.metrics import classification_report, confusion_matrix\n",
    "from sklearn.linear_model import Lasso\n",
    "from sklearn.linear_model import Ridge\n",
    "from sklearn.linear_model import RidgeCV\n",
    "from sklearn.metrics import mean_squared_error\n",
    "from sklearn.linear_model import LassoCV"
   ]
  },
  {
   "cell_type": "code",
   "execution_count": 52,
   "metadata": {},
   "outputs": [],
   "source": [
    "# Use fivethirtyeight styling, because I like it\n",
    "import matplotlib.style as style\n",
    "# style.use('fivethirtyeight')"
   ]
  },
  {
   "cell_type": "code",
   "execution_count": 68,
   "metadata": {},
   "outputs": [],
   "source": [
    "df = pd.read_csv('FINAL_data.csv')"
   ]
  },
  {
   "cell_type": "code",
   "execution_count": 74,
   "metadata": {},
   "outputs": [
    {
     "data": {
      "text/plain": [
       "Index(['Unnamed: 0', 'price', 'bedrooms', 'bathrooms', 'sqft_living',\n",
       "       'sqft_lot', 'floors', 'waterfront', 'view', 'condition', 'grade',\n",
       "       'sqft_above', 'sqft_basement', 'yr_built', 'yr_renovated', 'zipcode',\n",
       "       'sqft_living15', 'sqft_lot15', 'walk_score', 'transit_score',\n",
       "       'pers_crime_score', 'prop_crime_score', 'income', 'log_price',\n",
       "       'renovated_2', 'renovated_yrs_ago'],\n",
       "      dtype='object')"
      ]
     },
     "execution_count": 74,
     "metadata": {},
     "output_type": "execute_result"
    }
   ],
   "source": [
    "df.columns"
   ]
  },
  {
   "cell_type": "code",
   "execution_count": 75,
   "metadata": {},
   "outputs": [],
   "source": [
    "# Set our X and y in preparation for train/test/split\n",
    "X = df[['bedrooms', 'bathrooms', 'sqft_living', 'sqft_lot', 'floors', \n",
    "        'view', 'condition', 'grade', 'sqft_above',\n",
    "       'sqft_basement', 'yr_built', 'yr_renovated', 'sqft_living15',\n",
    "       'sqft_lot15', 'walk_score', 'transit_score',\n",
    "       'pers_crime_score', 'prop_crime_score', 'income',\n",
    "       'renovated_2']]\n",
    "\n",
    "y = pd.DataFrame(df['log_price'])"
   ]
  },
  {
   "cell_type": "code",
   "execution_count": 90,
   "metadata": {},
   "outputs": [],
   "source": [
    "X_train, X_test, y_train, y_test = train_test_split(X, y, test_size=0.33, random_state=41)"
   ]
  },
  {
   "cell_type": "code",
   "execution_count": 118,
   "metadata": {},
   "outputs": [
    {
     "ename": "AttributeError",
     "evalue": "'numpy.ndarray' object has no attribute 'values'",
     "output_type": "error",
     "traceback": [
      "\u001b[0;31m---------------------------------------------------------------------------\u001b[0m",
      "\u001b[0;31mAttributeError\u001b[0m                            Traceback (most recent call last)",
      "\u001b[0;32m<ipython-input-118-2c86d85867a3>\u001b[0m in \u001b[0;36m<module>\u001b[0;34m()\u001b[0m\n\u001b[1;32m      3\u001b[0m \u001b[0my_train\u001b[0m \u001b[0;34m=\u001b[0m \u001b[0my_train\u001b[0m\u001b[0;34m.\u001b[0m\u001b[0mvalues\u001b[0m\u001b[0;34m.\u001b[0m\u001b[0mreshape\u001b[0m\u001b[0;34m(\u001b[0m\u001b[0;34m(\u001b[0m\u001b[0mlen\u001b[0m\u001b[0;34m(\u001b[0m\u001b[0my_train\u001b[0m\u001b[0;34m)\u001b[0m\u001b[0;34m,\u001b[0m\u001b[0;34m)\u001b[0m\u001b[0;34m)\u001b[0m\u001b[0;34m;\u001b[0m\u001b[0;34m\u001b[0m\u001b[0m\n\u001b[1;32m      4\u001b[0m \u001b[0;31m# X_test = X_test.values.reshape((len(X_test),1));\u001b[0m\u001b[0;34m\u001b[0m\u001b[0;34m\u001b[0m\u001b[0m\n\u001b[0;32m----> 5\u001b[0;31m \u001b[0my_test\u001b[0m \u001b[0;34m=\u001b[0m \u001b[0my_test\u001b[0m\u001b[0;34m.\u001b[0m\u001b[0mvalues\u001b[0m\u001b[0;34m.\u001b[0m\u001b[0mreshape\u001b[0m\u001b[0;34m(\u001b[0m\u001b[0;34m(\u001b[0m\u001b[0mlen\u001b[0m\u001b[0;34m(\u001b[0m\u001b[0my_test\u001b[0m\u001b[0;34m)\u001b[0m\u001b[0;34m,\u001b[0m\u001b[0;34m)\u001b[0m\u001b[0;34m)\u001b[0m\u001b[0;34m;\u001b[0m\u001b[0;34m\u001b[0m\u001b[0m\n\u001b[0m",
      "\u001b[0;31mAttributeError\u001b[0m: 'numpy.ndarray' object has no attribute 'values'"
     ]
    }
   ],
   "source": [
    "# scikit learn requires the inputs to be in this shape\n",
    "# X_train = X_train.values.reshape((len(X_train),1));\n",
    "y_train = y_train.values.reshape((len(y_train),));\n",
    "# X_test = X_test.values.reshape((len(X_test),1));\n",
    "y_test = y_test.values.reshape((len(y_test),));"
   ]
  },
  {
   "cell_type": "code",
   "execution_count": 119,
   "metadata": {},
   "outputs": [
    {
     "name": "stdout",
     "output_type": "stream",
     "text": [
      "0.7357576877699145\n"
     ]
    }
   ],
   "source": [
    "# First, let's get a look at our plain vanilla, \"baseline\" model.\n",
    "lm = LinearRegression()\n",
    "lm.fit(X_train, y_train)\n",
    "predictions = lm.predict(X_test)\n",
    "\n",
    "# Get R-Squared for predictions\n",
    "print(lm.score(X_test, y_test))"
   ]
  },
  {
   "cell_type": "markdown",
   "metadata": {},
   "source": [
    "# RidgeCV"
   ]
  },
  {
   "cell_type": "code",
   "execution_count": 160,
   "metadata": {},
   "outputs": [
    {
     "name": "stdout",
     "output_type": "stream",
     "text": [
      "Train R^2:  0.7388407952723002\n",
      "Train SSE: 0.04746992034137818\n",
      "\n",
      "\n"
     ]
    }
   ],
   "source": [
    "# Let's try RidgeCV!\n",
    "est = make_pipeline(StandardScaler(), RidgeCV(cv=5, alphas=[10, 1, .1, .01, .001, .0001]))\n",
    "\n",
    "est.fit(X_train, y_train)\n",
    "print('Train R^2: ',est.score(X_train, y_train))\n",
    "print('Train SSE:', \n",
    "      mean_squared_error(y_train, est.predict(X_train)))\n",
    "print('\\n')\n",
    "scores.append((est.score(X_train, y_train), est.score(X_test, y_test)))"
   ]
  },
  {
   "cell_type": "code",
   "execution_count": 161,
   "metadata": {},
   "outputs": [],
   "source": [
    "coeffs = est.get_params()['ridgecv'].coef_"
   ]
  },
  {
   "cell_type": "code",
   "execution_count": 162,
   "metadata": {},
   "outputs": [
    {
     "name": "stdout",
     "output_type": "stream",
     "text": [
      "[(-0.037409785889628726, 'yr_built'),\n",
      " (-0.02486545627817573, 'pers_crime_score'),\n",
      " (-0.024865456278174825, 'prop_crime_score'),\n",
      " (-0.014383578823284398, 'renovated_2'),\n",
      " (-0.012634483140520734, 'floors'),\n",
      " (-0.0029957503993282065, 'sqft_lot15'),\n",
      " (0.0020129360412532624, 'sqft_lot'),\n",
      " (0.0023559154731655273, 'bathrooms'),\n",
      " (0.004604553495923276, 'bedrooms'),\n",
      " (0.0216573944037022, 'yr_renovated'),\n",
      " (0.025373840734440992, 'sqft_basement'),\n",
      " (0.027122305639618618, 'transit_score'),\n",
      " (0.03839098110470267, 'view'),\n",
      " (0.044338751852528197, 'condition'),\n",
      " (0.0612832383079533, 'sqft_living15'),\n",
      " (0.07076991550299805, 'sqft_living'),\n",
      " (0.0741937657314694, 'sqft_above'),\n",
      " (0.09916460710211515, 'income'),\n",
      " (0.10039780349186724, 'walk_score'),\n",
      " (0.13232672637692883, 'grade')]\n"
     ]
    }
   ],
   "source": [
    "import pprint as pprint\n",
    "\n",
    "pprint.pprint(sorted(list(zip(coeffs, X.columns))))"
   ]
  },
  {
   "cell_type": "markdown",
   "metadata": {},
   "source": [
    " # LassoCV"
   ]
  },
  {
   "cell_type": "code",
   "execution_count": 195,
   "metadata": {},
   "outputs": [
    {
     "name": "stdout",
     "output_type": "stream",
     "text": [
      "Train R^2:  0.7387304406807731\n",
      "Train SSE: 0.047489979077866375\n",
      "\n",
      "\n"
     ]
    }
   ],
   "source": [
    "# Let's run a lasso CV\n",
    "est = make_pipeline(StandardScaler(), LassoCV(cv=5, alphas=[10, 1, .1, .01, .001, .0001]))\n",
    "\n",
    "est.fit(X_train, y_train)\n",
    "print('Train R^2: ',est.score(X_train, y_train))\n",
    "print('Train SSE:', \n",
    "      mean_squared_error(y_train, est.predict(X_train)))\n",
    "print('\\n')\n",
    "scores.append((est.score(X_train, y_train), est.score(X_test, y_test)))"
   ]
  },
  {
   "cell_type": "code",
   "execution_count": 196,
   "metadata": {},
   "outputs": [
    {
     "data": {
      "text/plain": [
       "0.001"
      ]
     },
     "execution_count": 196,
     "metadata": {},
     "output_type": "execute_result"
    }
   ],
   "source": [
    "# Let's see what our optimal alpha is\n",
    "est.get_params()['lassocv'].alpha_"
   ]
  },
  {
   "cell_type": "code",
   "execution_count": 197,
   "metadata": {},
   "outputs": [],
   "source": [
    "coeffs = est.get_params()['lassocv'].coef_"
   ]
  },
  {
   "cell_type": "code",
   "execution_count": 198,
   "metadata": {},
   "outputs": [
    {
     "name": "stdout",
     "output_type": "stream",
     "text": [
      "[(-5.128786452995896, 'yr_built'),\n",
      " (-4.86938103125169, 'pers_crime_score'),\n",
      " (-0.9482893536614255, 'floors'),\n",
      " (-0.058746871598354455, 'sqft_lot15'),\n",
      " (0.0, 'bathrooms'),\n",
      " (-0.0, 'prop_crime_score'),\n",
      " (-0.0, 'renovated_2'),\n",
      " (0.0, 'sqft_basement'),\n",
      " (0.0, 'sqft_lot'),\n",
      " (0.4078511583207673, 'bedrooms'),\n",
      " (1.4278875715620567, 'yr_renovated'),\n",
      " (2.5766172690623312, 'transit_score'),\n",
      " (3.7648389104032254, 'view'),\n",
      " (3.807634931787174, 'sqft_above'),\n",
      " (4.364217959675023, 'condition'),\n",
      " (6.085802740158721, 'sqft_living15'),\n",
      " (9.880436829541777, 'income'),\n",
      " (9.908008545226688, 'walk_score'),\n",
      " (11.842588044686526, 'sqft_living'),\n",
      " (13.157259447329386, 'grade')]\n"
     ]
    }
   ],
   "source": [
    "import pprint as pprint\n",
    "\n",
    "# Multiplied coefficients by 100 to make comparison easier\n",
    "pprint.pprint(sorted(list(zip(coeffs*100, X.columns))))"
   ]
  },
  {
   "cell_type": "code",
   "execution_count": 199,
   "metadata": {},
   "outputs": [],
   "source": [
    "features = pd.DataFrame(list(zip(coeffs*100, X.columns)), columns=['Coefficient', 'Feature'])"
   ]
  },
  {
   "cell_type": "code",
   "execution_count": 200,
   "metadata": {},
   "outputs": [],
   "source": [
    "features = features.sort_values(by='Coefficient')"
   ]
  },
  {
   "cell_type": "code",
   "execution_count": 205,
   "metadata": {},
   "outputs": [
    {
     "data": {
      "text/html": [
       "<div>\n",
       "<style scoped>\n",
       "    .dataframe tbody tr th:only-of-type {\n",
       "        vertical-align: middle;\n",
       "    }\n",
       "\n",
       "    .dataframe tbody tr th {\n",
       "        vertical-align: top;\n",
       "    }\n",
       "\n",
       "    .dataframe thead th {\n",
       "        text-align: right;\n",
       "    }\n",
       "</style>\n",
       "<table border=\"1\" class=\"dataframe\">\n",
       "  <thead>\n",
       "    <tr style=\"text-align: right;\">\n",
       "      <th></th>\n",
       "      <th>bedrooms</th>\n",
       "      <th>bathrooms</th>\n",
       "      <th>sqft_living</th>\n",
       "      <th>sqft_lot</th>\n",
       "      <th>floors</th>\n",
       "      <th>view</th>\n",
       "      <th>condition</th>\n",
       "      <th>grade</th>\n",
       "      <th>sqft_above</th>\n",
       "      <th>sqft_basement</th>\n",
       "      <th>yr_built</th>\n",
       "      <th>yr_renovated</th>\n",
       "      <th>sqft_living15</th>\n",
       "      <th>sqft_lot15</th>\n",
       "      <th>walk_score</th>\n",
       "      <th>transit_score</th>\n",
       "      <th>pers_crime_score</th>\n",
       "      <th>prop_crime_score</th>\n",
       "      <th>income</th>\n",
       "      <th>renovated_2</th>\n",
       "    </tr>\n",
       "  </thead>\n",
       "  <tbody>\n",
       "    <tr>\n",
       "      <th>0</th>\n",
       "      <td>3</td>\n",
       "      <td>1.00</td>\n",
       "      <td>1180</td>\n",
       "      <td>5650</td>\n",
       "      <td>1.0</td>\n",
       "      <td>0</td>\n",
       "      <td>3</td>\n",
       "      <td>7</td>\n",
       "      <td>1180</td>\n",
       "      <td>0</td>\n",
       "      <td>1955</td>\n",
       "      <td>0</td>\n",
       "      <td>1340</td>\n",
       "      <td>5650</td>\n",
       "      <td>46</td>\n",
       "      <td>46</td>\n",
       "      <td>3</td>\n",
       "      <td>3</td>\n",
       "      <td>71524</td>\n",
       "      <td>1955</td>\n",
       "    </tr>\n",
       "    <tr>\n",
       "      <th>1</th>\n",
       "      <td>3</td>\n",
       "      <td>2.25</td>\n",
       "      <td>2570</td>\n",
       "      <td>7242</td>\n",
       "      <td>2.0</td>\n",
       "      <td>0</td>\n",
       "      <td>3</td>\n",
       "      <td>7</td>\n",
       "      <td>2170</td>\n",
       "      <td>400</td>\n",
       "      <td>1951</td>\n",
       "      <td>1991</td>\n",
       "      <td>1690</td>\n",
       "      <td>7639</td>\n",
       "      <td>64</td>\n",
       "      <td>50</td>\n",
       "      <td>3</td>\n",
       "      <td>3</td>\n",
       "      <td>56208</td>\n",
       "      <td>1991</td>\n",
       "    </tr>\n",
       "    <tr>\n",
       "      <th>2</th>\n",
       "      <td>2</td>\n",
       "      <td>1.00</td>\n",
       "      <td>770</td>\n",
       "      <td>10000</td>\n",
       "      <td>1.0</td>\n",
       "      <td>0</td>\n",
       "      <td>3</td>\n",
       "      <td>6</td>\n",
       "      <td>770</td>\n",
       "      <td>0</td>\n",
       "      <td>1933</td>\n",
       "      <td>0</td>\n",
       "      <td>2720</td>\n",
       "      <td>8062</td>\n",
       "      <td>19</td>\n",
       "      <td>26</td>\n",
       "      <td>3</td>\n",
       "      <td>3</td>\n",
       "      <td>96863</td>\n",
       "      <td>1933</td>\n",
       "    </tr>\n",
       "    <tr>\n",
       "      <th>3</th>\n",
       "      <td>3</td>\n",
       "      <td>2.50</td>\n",
       "      <td>3560</td>\n",
       "      <td>9796</td>\n",
       "      <td>1.0</td>\n",
       "      <td>0</td>\n",
       "      <td>3</td>\n",
       "      <td>8</td>\n",
       "      <td>1860</td>\n",
       "      <td>1700</td>\n",
       "      <td>1965</td>\n",
       "      <td>0</td>\n",
       "      <td>2210</td>\n",
       "      <td>8925</td>\n",
       "      <td>46</td>\n",
       "      <td>40</td>\n",
       "      <td>3</td>\n",
       "      <td>3</td>\n",
       "      <td>72383</td>\n",
       "      <td>1965</td>\n",
       "    </tr>\n",
       "    <tr>\n",
       "      <th>4</th>\n",
       "      <td>2</td>\n",
       "      <td>1.00</td>\n",
       "      <td>1160</td>\n",
       "      <td>6000</td>\n",
       "      <td>1.0</td>\n",
       "      <td>0</td>\n",
       "      <td>4</td>\n",
       "      <td>7</td>\n",
       "      <td>860</td>\n",
       "      <td>300</td>\n",
       "      <td>1942</td>\n",
       "      <td>0</td>\n",
       "      <td>1330</td>\n",
       "      <td>6000</td>\n",
       "      <td>72</td>\n",
       "      <td>48</td>\n",
       "      <td>2</td>\n",
       "      <td>2</td>\n",
       "      <td>103917</td>\n",
       "      <td>1942</td>\n",
       "    </tr>\n",
       "  </tbody>\n",
       "</table>\n",
       "</div>"
      ],
      "text/plain": [
       "   bedrooms  bathrooms  sqft_living  sqft_lot  floors  view  condition  grade  \\\n",
       "0         3       1.00         1180      5650     1.0     0          3      7   \n",
       "1         3       2.25         2570      7242     2.0     0          3      7   \n",
       "2         2       1.00          770     10000     1.0     0          3      6   \n",
       "3         3       2.50         3560      9796     1.0     0          3      8   \n",
       "4         2       1.00         1160      6000     1.0     0          4      7   \n",
       "\n",
       "   sqft_above  sqft_basement  yr_built  yr_renovated  sqft_living15  \\\n",
       "0        1180              0      1955             0           1340   \n",
       "1        2170            400      1951          1991           1690   \n",
       "2         770              0      1933             0           2720   \n",
       "3        1860           1700      1965             0           2210   \n",
       "4         860            300      1942             0           1330   \n",
       "\n",
       "   sqft_lot15  walk_score  transit_score  pers_crime_score  prop_crime_score  \\\n",
       "0        5650          46             46                 3                 3   \n",
       "1        7639          64             50                 3                 3   \n",
       "2        8062          19             26                 3                 3   \n",
       "3        8925          46             40                 3                 3   \n",
       "4        6000          72             48                 2                 2   \n",
       "\n",
       "   income  renovated_2  \n",
       "0   71524         1955  \n",
       "1   56208         1991  \n",
       "2   96863         1933  \n",
       "3   72383         1965  \n",
       "4  103917         1942  "
      ]
     },
     "execution_count": 205,
     "metadata": {},
     "output_type": "execute_result"
    }
   ],
   "source": [
    "X.head()"
   ]
  },
  {
   "cell_type": "code",
   "execution_count": 203,
   "metadata": {},
   "outputs": [
    {
     "data": {
      "image/png": "[encoded data removed]",
      "text/plain": [
       "<Figure size 720x720 with 1 Axes>"
      ]
     },
     "metadata": {},
     "output_type": "display_data"
    }
   ],
   "source": [
    "fig, ax = plt.subplots(figsize=(10,10))\n",
    "barlist = plt.barh(features['Feature'], features['Coefficient'])\n",
    "for i in range(3,9):\n",
    "    barlist[i].set_color('r')\n"
   ]
  },
  {
   "cell_type": "code",
   "execution_count": 185,
   "metadata": {},
   "outputs": [
    {
     "name": "stdout",
     "output_type": "stream",
     "text": [
      "Rectangle(xy=(0, -0.4), width=-3.74098, height=0.8, angle=0)\n"
     ]
    }
   ],
   "source": [
    "print(barlist[0])"
   ]
  },
  {
   "cell_type": "markdown",
   "metadata": {},
   "source": [
    "### This shows we can do away with Sqft. Lot, Sqft. Basement, and several other features barely add any information"
   ]
  },
  {
   "cell_type": "code",
   "execution_count": null,
   "metadata": {},
   "outputs": [],
   "source": []
  },
  {
   "cell_type": "code",
   "execution_count": null,
   "metadata": {},
   "outputs": [],
   "source": []
  },
  {
   "cell_type": "code",
   "execution_count": null,
   "metadata": {},
   "outputs": [],
   "source": []
  },
  {
   "cell_type": "code",
   "execution_count": 110,
   "metadata": {},
   "outputs": [
    {
     "data": {
      "text/plain": [
       "[<matplotlib.lines.Line2D at 0x1a1c0f0e80>,\n",
       " <matplotlib.lines.Line2D at 0x1a1c0f8080>]"
      ]
     },
     "execution_count": 110,
     "metadata": {},
     "output_type": "execute_result"
    },
    {
     "data": {
      "image/png": "[encoded data removed]",
      "text/plain": [
       "<Figure size 432x288 with 1 Axes>"
      ]
     },
     "metadata": {},
     "output_type": "display_data"
    }
   ],
   "source": [
    "plt.plot(alphas, scores)"
   ]
  },
  {
   "cell_type": "code",
   "execution_count": null,
   "metadata": {},
   "outputs": [],
   "source": [
    "est.get_params()['linearregression'].coef_"
   ]
  },
  {
   "cell_type": "code",
   "execution_count": null,
   "metadata": {},
   "outputs": [],
   "source": []
  },
  {
   "cell_type": "code",
   "execution_count": null,
   "metadata": {},
   "outputs": [],
   "source": []
  },
  {
   "cell_type": "code",
   "execution_count": null,
   "metadata": {},
   "outputs": [],
   "source": []
  },
  {
   "cell_type": "code",
   "execution_count": null,
   "metadata": {},
   "outputs": [],
   "source": []
  },
  {
   "cell_type": "code",
   "execution_count": null,
   "metadata": {},
   "outputs": [],
   "source": []
  },
  {
   "cell_type": "code",
   "execution_count": null,
   "metadata": {},
   "outputs": [],
   "source": []
  },
  {
   "cell_type": "code",
   "execution_count": null,
   "metadata": {},
   "outputs": [],
   "source": []
  },
  {
   "cell_type": "code",
   "execution_count": null,
   "metadata": {},
   "outputs": [],
   "source": []
  },
  {
   "cell_type": "code",
   "execution_count": null,
   "metadata": {},
   "outputs": [],
   "source": []
  },
  {
   "cell_type": "code",
   "execution_count": 100,
   "metadata": {},
   "outputs": [
    {
     "name": "stdout",
     "output_type": "stream",
     "text": [
      "Degree: 0\n",
      "[0.18176622 0.04031914 0.01504897 0.00035957 0.00035957] [1.81284076e-01 6.01212590e-02 2.13800578e+20 7.34717639e-01\n",
      " 1.80070551e+15]\n",
      "Degree: 1\n",
      "[0.18176622 0.04746951 0.01504897 0.00035957 0.00035957] [1.81284076e-01 4.78656834e-02 2.13800578e+20 7.34717639e-01\n",
      " 1.80070551e+15]\n",
      "Degree: 2\n",
      "[0.18176622 0.04746951 0.03956949 0.00035957 0.00035957] [1.81284076e-01 4.78656834e-02 4.86202602e-02 7.34717639e-01\n",
      " 1.80070551e+15]\n",
      "Degree: 3\n",
      "[0.18176622 0.04746951 0.03956949 0.02706106 0.00035957] [1.81284076e-01 4.78656834e-02 4.86202602e-02 5.48362513e+00\n",
      " 1.80070551e+15]\n",
      "Degree: 4\n",
      "[0.18176622 0.04746951 0.03956949 0.02706106 0.01973835] [1.81284076e-01 4.78656834e-02 4.86202602e-02 5.48362513e+00\n",
      " 1.01742803e+07]\n"
     ]
    }
   ],
   "source": [
    "# Now let's look at creating Polynomials\n",
    "degree = [1,2,3,4,5]\n",
    "for degree in range(deg):\n",
    "    est = make_pipeline(PolynomialFeatures(degree), LinearRegression())\n",
    "    est.fit(X_train, y_train)\n",
    "    print(f'Degree: {degree}')\n",
    "    train_error[degree] = mean_squared_error(y_train, est.predict(X_train))\n",
    "    test_error[degree] = mean_squared_error(y_test, est.predict(X_test))\n",
    "    print(train_error, test_error)"
   ]
  },
  {
   "cell_type": "code",
   "execution_count": null,
   "metadata": {},
   "outputs": [],
   "source": []
  },
  {
   "cell_type": "code",
   "execution_count": 37,
   "metadata": {},
   "outputs": [],
   "source": [
    "deg = 5\n",
    "# Step through degrees from 0 to 15 and store the training and test (generalization) error.\n",
    "# create array of zeros,\n",
    "train_error = np.empty(deg)\n",
    "test_error = np.empty(deg)\n",
    "# plt.figure(figsize=(6,6))\n",
    "# plt.scatter(X_train, y_train,c='b')\n",
    "# plt.scatter(X_test, y_test,c='r')\n",
    "\n",
    "for degree in range(deg):\n",
    "    est = make_pipeline(PolynomialFeatures(degree), StandardScaler(), LinearRegression())\n",
    "    est.fit(X_train, y_train)\n",
    "    train_error[degree] = mean_squared_error(y_train, est.predict(X_train))\n",
    "    test_error[degree] = mean_squared_error(y_test, est.predict(X_test))\n",
    "#     if degree in np.array([0,1,2,5,15,20]):\n",
    "#         plt.plot(np.linspace(0,np.pi*2,1000).reshape((1000,1)), \n",
    "#          est.predict(np.linspace(0,np.pi*2,1000).reshape((1000,1))),label=degree)\n",
    "# plt.legend()\n",
    "# plt.ylim((-2, 2));"
   ]
  },
  {
   "cell_type": "code",
   "execution_count": null,
   "metadata": {},
   "outputs": [],
   "source": []
  },
  {
   "cell_type": "code",
   "execution_count": null,
   "metadata": {},
   "outputs": [],
   "source": [
    "# def plot_approximation(est, ax, label=None):\n",
    "#     \"\"\"Plot the approximation of ``est`` on axis ``ax``. \"\"\"\n",
    "# #     ax.plot(x_plot, f(x_plot), label='ground truth', color='green')\n",
    "#     ax.scatter(X, y, s=100)\n",
    "#     ax.plot(x_plot, est.predict(x_plot[:, np.newaxis]), color='red', label=label)\n",
    "#     ax.set_ylim((-2, 2))\n",
    "#     ax.set_xlim((0, 1))\n",
    "#     ax.set_ylabel('y')\n",
    "#     ax.set_xlabel('x')\n",
    "#     ax.legend(loc='upper right',frameon=True)"
   ]
  },
  {
   "cell_type": "code",
   "execution_count": null,
   "metadata": {},
   "outputs": [],
   "source": [
    "degree = 1\n",
    "est = make_pipeline(PolynomialFeatures(degree), StandardScaler(), \n",
    "                    RidgeCV(cv=3,alphas=(1e-14,1e-8,1e-2,100)))"
   ]
  },
  {
   "cell_type": "code",
   "execution_count": null,
   "metadata": {},
   "outputs": [],
   "source": [
    "degree = 1\n",
    "est = make_pipeline(StandardScaler(), \n",
    "                    Ridge())"
   ]
  },
  {
   "cell_type": "code",
   "execution_count": null,
   "metadata": {},
   "outputs": [],
   "source": []
  },
  {
   "cell_type": "code",
   "execution_count": null,
   "metadata": {},
   "outputs": [],
   "source": [
    "est.fit(X_train, y_train)\n",
    "print('Train R^2: ',est.score(X_train, y_train))\n",
    "print('Train SSE:', \n",
    "      mean_squared_error(y_train, est.predict(X_train)))\n",
    "print('Test R^2: ', est.score(X_test, y_test))\n",
    "print('Test SSE:', \n",
    "      mean_squared_error(y_test, est.predict(X_test)))"
   ]
  },
  {
   "cell_type": "code",
   "execution_count": null,
   "metadata": {},
   "outputs": [],
   "source": [
    "import warnings\n",
    "warnings.filterwarnings(\"ignore\")\n",
    "\n",
    "from sklearn.metrics import mean_squared_error\n",
    "\n",
    "deg = 21\n",
    "# Step through degrees from 0 to 15 and store the training and test (generalization) error.\n",
    "# create array of zeros,\n",
    "train_error = np.empty(deg)\n",
    "test_error = np.empty(deg)\n",
    "plt.figure(figsize=(6,6))\n",
    "plt.scatter(X_train, y_train,c='b')\n",
    "plt.scatter(X_test, y_test,c='r')\n",
    "\n",
    "for degree in range(deg):\n",
    "    est = make_pipeline(PolynomialFeatures(degree), StandardScaler(), LinearRegression())\n",
    "    est.fit(X_train, y_train)\n",
    "    train_error[degree] = mean_squared_error(y_train, est.predict(X_train))\n",
    "    test_error[degree] = mean_squared_error(y_test, est.predict(X_test))\n",
    "    if degree in np.array([0,1,2,5,15,20]):\n",
    "        plt.plot(np.linspace(0,np.pi*2,1000).reshape((1000,1)), \n",
    "         est.predict(np.linspace(0,np.pi*2,1000).reshape((1000,1))),label=degree)\n",
    "plt.legend()\n",
    "plt.ylim((-2, 2));"
   ]
  },
  {
   "cell_type": "code",
   "execution_count": 29,
   "metadata": {},
   "outputs": [
    {
     "name": "stdout",
     "output_type": "stream",
     "text": [
      "Degrees: 0\n",
      "Train R^2:  0.0\n",
      "Train SSE: 0.16732274757448443\n",
      "Test R^2:  -0.0002066845794210792\n",
      "Test SSE: 0.23278813399095816\n",
      "\n",
      "\n",
      "Degrees: 1\n",
      "Train R^2:  0.7386853114692804\n",
      "Train SSE: 0.04372389166653061\n",
      "Test R^2:  0.7210343498194889\n",
      "Test SSE: 0.06492647385215417\n",
      "\n",
      "\n"
     ]
    },
    {
     "name": "stderr",
     "output_type": "stream",
     "text": [
      "/Users/brenner/anaconda3/lib/python3.6/site-packages/sklearn/linear_model/ridge.py:112: LinAlgWarning: scipy.linalg.solve\n",
      "Ill-conditioned matrix detected. Result is not guaranteed to be accurate.\n",
      "Reciprocal condition number6.548403e-18\n",
      "  overwrite_a=True).T\n",
      "/Users/brenner/anaconda3/lib/python3.6/site-packages/sklearn/linear_model/ridge.py:154: UserWarning: Singular matrix in solving dual problem. Using least-squares solution instead.\n",
      "  warnings.warn(\"Singular matrix in solving dual problem. Using \"\n",
      "/Users/brenner/anaconda3/lib/python3.6/site-packages/sklearn/linear_model/ridge.py:154: UserWarning: Singular matrix in solving dual problem. Using least-squares solution instead.\n",
      "  warnings.warn(\"Singular matrix in solving dual problem. Using \"\n",
      "/Users/brenner/anaconda3/lib/python3.6/site-packages/sklearn/linear_model/ridge.py:154: UserWarning: Singular matrix in solving dual problem. Using least-squares solution instead.\n",
      "  warnings.warn(\"Singular matrix in solving dual problem. Using \"\n"
     ]
    },
    {
     "name": "stdout",
     "output_type": "stream",
     "text": [
      "Degrees: 2\n",
      "Train R^2:  0.7780350332323118\n",
      "Train SSE: 0.03713978810484871\n",
      "Test R^2:  0.7416055707128952\n",
      "Test SSE: 0.06013872727984895\n",
      "\n",
      "\n"
     ]
    },
    {
     "name": "stderr",
     "output_type": "stream",
     "text": [
      "/Users/brenner/anaconda3/lib/python3.6/site-packages/sklearn/linear_model/ridge.py:154: UserWarning: Singular matrix in solving dual problem. Using least-squares solution instead.\n",
      "  warnings.warn(\"Singular matrix in solving dual problem. Using \"\n",
      "/Users/brenner/anaconda3/lib/python3.6/site-packages/sklearn/linear_model/ridge.py:154: UserWarning: Singular matrix in solving dual problem. Using least-squares solution instead.\n",
      "  warnings.warn(\"Singular matrix in solving dual problem. Using \"\n",
      "/Users/brenner/anaconda3/lib/python3.6/site-packages/sklearn/linear_model/ridge.py:154: UserWarning: Singular matrix in solving dual problem. Using least-squares solution instead.\n",
      "  warnings.warn(\"Singular matrix in solving dual problem. Using \"\n"
     ]
    },
    {
     "name": "stdout",
     "output_type": "stream",
     "text": [
      "Degrees: 3\n",
      "Train R^2:  0.8288968296675351\n",
      "Train SSE: 0.028629452578733044\n",
      "Test R^2:  0.7235232285442461\n",
      "Test SSE: 0.06434721214255094\n",
      "\n",
      "\n"
     ]
    },
    {
     "name": "stderr",
     "output_type": "stream",
     "text": [
      "/Users/brenner/anaconda3/lib/python3.6/site-packages/sklearn/linear_model/ridge.py:154: UserWarning: Singular matrix in solving dual problem. Using least-squares solution instead.\n",
      "  warnings.warn(\"Singular matrix in solving dual problem. Using \"\n",
      "/Users/brenner/anaconda3/lib/python3.6/site-packages/sklearn/linear_model/ridge.py:152: LinAlgWarning: scipy.linalg.solve\n",
      "Ill-conditioned matrix detected. Result is not guaranteed to be accurate.\n",
      "Reciprocal condition number7.142248e-19\n",
      "  overwrite_a=False)\n",
      "/Users/brenner/anaconda3/lib/python3.6/site-packages/sklearn/linear_model/ridge.py:154: UserWarning: Singular matrix in solving dual problem. Using least-squares solution instead.\n",
      "  warnings.warn(\"Singular matrix in solving dual problem. Using \"\n"
     ]
    },
    {
     "name": "stdout",
     "output_type": "stream",
     "text": [
      "Degrees: 4\n",
      "Train R^2:  0.8786343223284642\n",
      "Train SSE: 0.02030723864924063\n",
      "Test R^2:  0.6617951109753841\n",
      "Test SSE: 0.07871381609068608\n",
      "\n",
      "\n"
     ]
    }
   ],
   "source": [
    "degrees = [0,1,2,3,4]\n",
    "scores = []\n",
    "\n",
    "for degree in degrees:\n",
    "    est = make_pipeline(PolynomialFeatures(degree), StandardScaler(), \n",
    "                        RidgeCV(cv=3,alphas=(1e-14,1e-8,1e-2,100)))\n",
    "\n",
    "    est.fit(X_train, y_train)\n",
    "    print(f'Degrees: {degree}')\n",
    "    print('Train R^2: ',est.score(X_train, y_train))\n",
    "    print('Train SSE:', \n",
    "          mean_squared_error(y_train, est.predict(X_train)))\n",
    "    print('Test R^2: ', est.score(X_test, y_test))\n",
    "    print('Test SSE:', \n",
    "          mean_squared_error(y_test, est.predict(X_test)))\n",
    "    print('\\n')\n",
    "    scores.append((est.score(X_train, y_train), est.score(X_test, y_test)))"
   ]
  },
  {
   "cell_type": "code",
   "execution_count": 23,
   "metadata": {},
   "outputs": [
    {
     "name": "stdout",
     "output_type": "stream",
     "text": [
      "Alpha: 1e-07\n",
      "Train R^2:  0.7590337091356856\n",
      "Train SSE: 0.040319141860249465\n",
      "Test R^2:  0.7416805888477027\n",
      "Test SSE: 0.06012126755688715\n",
      "\n",
      "\n",
      "Alpha: 1e-05\n",
      "Train R^2:  0.7590333980567922\n",
      "Train SSE: 0.040319193910824634\n",
      "Test R^2:  0.7416762400900081\n",
      "Test SSE: 0.06012227968688439\n",
      "\n",
      "\n",
      "Alpha: 0.001\n",
      "Train R^2:  0.7586600469289441\n",
      "Train SSE: 0.0403816640473462\n",
      "Test R^2:  0.7406746192029934\n",
      "Test SSE: 0.060355396962392865\n",
      "\n",
      "\n",
      "Alpha: 0.1\n",
      "Train R^2:  0.4992102030091564\n",
      "Train SSE: 0.08379352478977622\n",
      "Test R^2:  0.5153345150005546\n",
      "Test SSE: 0.11280105962327713\n",
      "\n",
      "\n",
      "Alpha: 1.0\n",
      "Train R^2:  0.0\n",
      "Train SSE: 0.16732274757448443\n",
      "Test R^2:  -0.0002066845794210792\n",
      "Test SSE: 0.23278813399095816\n",
      "\n",
      "\n"
     ]
    },
    {
     "name": "stderr",
     "output_type": "stream",
     "text": [
      "/Users/brenner/anaconda3/lib/python3.6/site-packages/sklearn/linear_model/coordinate_descent.py:491: ConvergenceWarning: Objective did not converge. You might want to increase the number of iterations. Fitting data with very small alpha may cause precision problems.\n",
      "  ConvergenceWarning)\n",
      "/Users/brenner/anaconda3/lib/python3.6/site-packages/sklearn/linear_model/coordinate_descent.py:491: ConvergenceWarning: Objective did not converge. You might want to increase the number of iterations. Fitting data with very small alpha may cause precision problems.\n",
      "  ConvergenceWarning)\n"
     ]
    }
   ],
   "source": [
    "alphas = [1e-7, 1e-5, 1e-3, 1e-1, 1e-0]\n",
    "scores = []\n",
    "for alpha in alphas:\n",
    "    est = make_pipeline(StandardScaler(), Lasso(alpha=alpha))\n",
    "\n",
    "    est.fit(X_train, y_train)\n",
    "    print(f'Alpha: {alpha}')\n",
    "    print('Train R^2: ',est.score(X_train, y_train))\n",
    "    print('Train SSE:', \n",
    "          mean_squared_error(y_train, est.predict(X_train)))\n",
    "    print('Test R^2: ', est.score(X_test, y_test))\n",
    "    print('Test SSE:', \n",
    "          mean_squared_error(y_test, est.predict(X_test)))\n",
    "    print('\\n')\n",
    "    scores.append((est.score(X_train, y_train), est.score(X_test, y_test)))"
   ]
  },
  {
   "cell_type": "code",
   "execution_count": 49,
   "metadata": {},
   "outputs": [
    {
     "data": {
      "text/plain": [
       "array([[ 5.68169392e+06, -4.60802485e+06,  4.32364323e+06, ...,\n",
       "         4.27056626e+04,  1.56043551e+03,  5.69322371e+04]])"
      ]
     },
     "execution_count": 49,
     "metadata": {},
     "output_type": "execute_result"
    }
   ],
   "source": [
    "est.get_params()['linearregression'].coef_"
   ]
  },
  {
   "cell_type": "code",
   "execution_count": 25,
   "metadata": {},
   "outputs": [
    {
     "name": "stdout",
     "output_type": "stream",
     "text": [
      "Alpha: 1e-07\n",
      "Train R^2:  0.7590337091674357\n",
      "Train SSE: 0.04031914185493695\n",
      "Test R^2:  0.7416805967539695\n",
      "Test SSE: 0.06012126571678237\n",
      "\n",
      "\n",
      "Alpha: 1e-05\n",
      "Train R^2:  0.7590336967317955\n",
      "Train SSE: 0.040319143935702406\n",
      "Test R^2:  0.7416774449371375\n",
      "Test SSE: 0.06012199927072709\n",
      "\n",
      "\n",
      "Alpha: 0.001\n",
      "Train R^2:  0.7589094116694077\n",
      "Train SSE: 0.04033993965382361\n",
      "Test R^2:  0.7412816152977253\n",
      "Test SSE: 0.06021412467296415\n",
      "\n",
      "\n",
      "Alpha: 0.1\n",
      "Train R^2:  0.657186161075701\n",
      "Train SSE: 0.057360553435370436\n",
      "Test R^2:  0.6702966312276257\n",
      "Test SSE: 0.0767351720103\n",
      "\n",
      "\n",
      "Alpha: 1.0\n",
      "Train R^2:  0.6279853580524748\n",
      "Train SSE: 0.06224651202859795\n",
      "Test R^2:  0.6639791379403603\n",
      "Test SSE: 0.0782055055888656\n",
      "\n",
      "\n"
     ]
    },
    {
     "name": "stderr",
     "output_type": "stream",
     "text": [
      "/Users/brenner/anaconda3/lib/python3.6/site-packages/sklearn/linear_model/coordinate_descent.py:491: ConvergenceWarning: Objective did not converge. You might want to increase the number of iterations. Fitting data with very small alpha may cause precision problems.\n",
      "  ConvergenceWarning)\n",
      "/Users/brenner/anaconda3/lib/python3.6/site-packages/sklearn/linear_model/coordinate_descent.py:491: ConvergenceWarning: Objective did not converge. You might want to increase the number of iterations. Fitting data with very small alpha may cause precision problems.\n",
      "  ConvergenceWarning)\n",
      "/Users/brenner/anaconda3/lib/python3.6/site-packages/sklearn/linear_model/coordinate_descent.py:491: ConvergenceWarning: Objective did not converge. You might want to increase the number of iterations. Fitting data with very small alpha may cause precision problems.\n",
      "  ConvergenceWarning)\n"
     ]
    }
   ],
   "source": [
    "# Without StandardScaler\n",
    "alphas = [1e-7, 1e-5, 1e-3, 1e-1, 1e-0]\n",
    "scores = []\n",
    "for alpha in alphas:\n",
    "    est = make_pipeline(Lasso(alpha=alpha))\n",
    "\n",
    "    est.fit(X_train, y_train)\n",
    "    print(f'Alpha: {alpha}')\n",
    "    print('Train R^2: ',est.score(X_train, y_train))\n",
    "    print('Train SSE:', \n",
    "          mean_squared_error(y_train, est.predict(X_train)))\n",
    "    print('Test R^2: ', est.score(X_test, y_test))\n",
    "    print('Test SSE:', \n",
    "          mean_squared_error(y_test, est.predict(X_test)))\n",
    "    print('\\n')\n",
    "    scores.append((est.score(X_train, y_train), est.score(X_test, y_test)))"
   ]
  },
  {
   "cell_type": "code",
   "execution_count": null,
   "metadata": {},
   "outputs": [],
   "source": [
    "from sklearn.linear_model import Lasso\n",
    "\n",
    "# Create only 2 plot rows, only trying 2 alphas\n",
    "fig, ax_rows = plt.subplots(3, 2, figsize=(6, 10))\n",
    "\n",
    "# Plot the results next to the coefficient values for each of hte 2 alphas\n",
    "degree = 20\n",
    "alphas = [1e-5, 1e-3, 1e-1]\n",
    "\n",
    "sse_tr_Lasso = []\n",
    "sse_te_Lasso = []\n",
    "r2_tr_Lasso = []\n",
    "r2_te_Lasso = []\n",
    "for alpha, ax_row in zip(alphas, ax_rows):\n",
    "    ax_left, ax_right = ax_row\n",
    "    est = make_pipeline(PolynomialFeatures(degree), StandardScaler(), Lasso(alpha=alpha))\n",
    "    est.fit(X_train, y_train)\n",
    "    sse_tr_Lasso.append(mean_squared_error(y_train, est.predict(X_train)))\n",
    "    sse_te_Lasso.append(mean_squared_error(y_test, est.predict(X_test)))\n",
    "    r2_tr_Lasso.append(est.score(X_train,y_train))\n",
    "    r2_te_Lasso.append(est.score(X_test,y_test))\n",
    "\n",
    "\n",
    "    plot_approximation(est, ax_left, label='alpha=%r' % alpha)\n",
    "    plot_coefficients(est, ax_right, label='Lasso(alpha=%r) coefficients' % alpha)#, yscale=None)\n",
    "\n",
    "plt.tight_layout()"
   ]
  }
 ],
 "metadata": {
  "kernelspec": {
   "display_name": "Python 3",
   "language": "python",
   "name": "python3"
  },
  "language_info": {
   "codemirror_mode": {
    "name": "ipython",
    "version": 3
   },
   "file_extension": ".py",
   "mimetype": "text/x-python",
   "name": "python",
   "nbconvert_exporter": "python",
   "pygments_lexer": "ipython3",
   "version": "3.6.6"
  }
 },
 "nbformat": 4,
 "nbformat_minor": 2
}
